{
 "cells": [
  {
   "cell_type": "markdown",
   "id": "48c909d8",
   "metadata": {
    "id": "48c909d8"
   },
   "source": [
    "# Курсовая работа по Машинному обучению \n",
    "# Разработка системы анализа корпоративных новостей\n",
    "## студентки 2 курса группы ПМ21-4\n",
    "## Ермолиной Елизаветы"
   ]
  },
  {
   "cell_type": "markdown",
   "id": "61ae27de",
   "metadata": {
    "id": "61ae27de"
   },
   "source": [
    "# Структура"
   ]
  },
  {
   "cell_type": "markdown",
   "id": "53b1d653",
   "metadata": {
    "id": "53b1d653"
   },
   "source": [
    "1. Цель: провести анализ методов машинного обучения для обработки данных корпоративного новостного потока;\n",
    "2. Задачи: загрузить данные, провести описательный анализ данных, провести предварительный анализ и очистку данных, провести векторизацию данных, разделить data set на тренировочные и тестовые значения, построить несколько моделей, построить результат моделирования\n",
    "3. Ожидаемые результаты: выявить, какой метод наиболее эффективен для классификации новостей по тематическим областям;\n",
    "4. Описание датасета: парсинг сайта Яндекс, данные преобразованы в csv файл, который состоит из 825 новостей, разделенные на пять тематических областей (Продукты, услуги и новые технологии, Отчетность и финансовые показатели,  Структура бизнеса, Политика компании и внутренние решения и другое) за 1996-2023 годы."
   ]
  },
  {
   "cell_type": "markdown",
   "id": "3f8bb5b3",
   "metadata": {
    "id": "3f8bb5b3"
   },
   "source": [
    "# Содержание"
   ]
  },
  {
   "cell_type": "markdown",
   "id": "b1d5ece6",
   "metadata": {
    "id": "b1d5ece6"
   },
   "source": [
    "## [Парсинг](#Сбор_данных)\n",
    "## [Очистка и преобразование данных](#Очистка_и_преобразование_данных)\n",
    "## [Классификация датасета](#Классификация_датасета)\n",
    "## [Векторизация текстовых данных ](#Векторизация_текстовых_данных)\n",
    "## [Создание классификаторов ML](#Создание_классификаторов_ML)\n",
    "## [Улучшение модели](#Улучшение_модели)\n",
    "## [Нейросеть](#Нейросеть)\n",
    "## [Выводы](#Выводы)\n",
    "## [Список литературы](#Список_литературы)"
   ]
  },
  {
   "cell_type": "markdown",
   "id": "bf9f14fd",
   "metadata": {
    "id": "bf9f14fd"
   },
   "source": [
    "## Импортируем все необходимые библиотеки"
   ]
  },
  {
   "cell_type": "code",
   "execution_count": 34,
   "id": "e04fea94",
   "metadata": {
    "id": "e04fea94"
   },
   "outputs": [
    {
     "name": "stderr",
     "output_type": "stream",
     "text": [
      "2023-05-24 16:09:08.919806: I tensorflow/core/platform/cpu_feature_guard.cc:182] This TensorFlow binary is optimized to use available CPU instructions in performance-critical operations.\n",
      "To enable the following instructions: AVX2 AVX512F AVX512_VNNI FMA, in other operations, rebuild TensorFlow with the appropriate compiler flags.\n"
     ]
    }
   ],
   "source": [
    "import pandas as pd\n",
    "from bs4 import BeautifulSoup\n",
    "import requests\n",
    "import pymorphy2\n",
    "from nltk.corpus import stopwords\n",
    "from nltk.tokenize import word_tokenize\n",
    "from sklearn.model_selection import train_test_split\n",
    "from sklearn.metrics import confusion_matrix\n",
    "import matplotlib.pyplot as plt\n",
    "import seaborn as sns\n",
    "from sklearn.naive_bayes import MultinomialNB\n",
    "from sklearn.linear_model import LogisticRegression\n",
    "import numpy as np\n",
    "import re\n",
    "import nltk\n",
    "from nltk.stem.snowball import SnowballStemmer\n",
    "from urllib.parse import urlparse\n",
    "from sklearn.model_selection import GridSearchCV\n",
    "from gensim.models import Word2Vec, KeyedVectors\n",
    "from sklearn import feature_extraction, svm\n",
    "from tensorflow.keras import models, layers\n",
    "from sklearn.metrics import  accuracy_score\n",
    "import tensorflow as tf\n",
    "#nltk.download('stopwords')\n",
    "#nltk.download('punkt')\n",
    "from sklearn.ensemble import GradientBoostingClassifier\n",
    "from sklearn.model_selection import KFold, StratifiedKFold, cross_val_score\n",
    "from gensim import matutils\n",
    "from sklearn import metrics, svm, neighbors, neural_network, tree, naive_bayes, datasets, ensemble, linear_model"
   ]
  },
  {
   "cell_type": "markdown",
   "id": "c37e990d",
   "metadata": {
    "id": "c37e990d"
   },
   "source": [
    "# Парсинг"
   ]
  },
  {
   "cell_type": "markdown",
   "id": "133d6e87",
   "metadata": {
    "id": "133d6e87"
   },
   "source": [
    " собираем данные со следующих сайтов: \n",
    "\n",
    "1. РБК (раздел \"Бизнес\") - https://www.rbc.ru/business/?utm_source=topline\n",
    "\n",
    "2. B2Broker - https://b2broker.com/ru/corporate-news/\n",
    "\n",
    "3. Yandex  - https://yandex.ru/company/press_releases/2023"
   ]
  },
  {
   "cell_type": "markdown",
   "id": "e4e0dc11",
   "metadata": {
    "id": "e4e0dc11"
   },
   "source": [
    "### РБК бизнес"
   ]
  },
  {
   "cell_type": "code",
   "execution_count": null,
   "id": "87148c35",
   "metadata": {
    "id": "87148c35"
   },
   "outputs": [],
   "source": [
    "RBC = pd.DataFrame(columns = ['Title','Link', 'Text'])\n",
    "url = 'https://www.rbc.ru/business/?utm_source=topline'\n",
    "USER = {\"User-Agent\": \"Mozilla/5.0 (Macintosh; Intel Mac OS X 10_15_7) AppleWebKit/605.1.15 (KHTML, like Gecko) Version/16.3 Safari/605.1.15\"}\n",
    "result = requests.get(url, headers=USER)\n",
    "soup = BeautifulSoup(result.content,'html.parser')\n",
    "titles = soup.find_all('span', class_='item__title rm-cm-item-text js-rm-central-column-item-text')\n",
    "domain_name = urlparse('https://www.rbc.ru/business/?utm_source=topline').netloc\n",
    "soup = BeautifulSoup(requests.get(url).content, \"html.parser\")\n",
    "links = []\n",
    "texts = []\n",
    "for a_tag in soup.findAll(\"a\", class_='item__link rm-cm-item-link js-rm-central-column-item-link'):\n",
    "        href = a_tag.attrs.get(\"href\")\n",
    "        links.append(href)\n",
    "        \n",
    "        res = requests.get(href, headers=USER)\n",
    "        soup_ = BeautifulSoup(res.content,'html.parser')\n",
    "        text = soup_.findAll('div', class_='article__text article__text_free')\n",
    "        texts.append(str(text[0].text).replace('\\n', ' ').replace('\\xa0', ' '))\n",
    "i = 1\n",
    "for t, l, tex in zip(titles, links, texts):\n",
    "    RBC.loc[i] = [t.get_text().strip(), l, tex]\n",
    "    i += 1"
   ]
  },
  {
   "cell_type": "markdown",
   "id": "9724196b",
   "metadata": {
    "id": "9724196b"
   },
   "source": [
    "### B2Broker"
   ]
  },
  {
   "cell_type": "code",
   "execution_count": null,
   "id": "94ae2d12",
   "metadata": {
    "id": "94ae2d12"
   },
   "outputs": [],
   "source": [
    "B2B = pd.DataFrame(columns = ['Title','Link', 'Text'])\n",
    "for p in range(1, 5):\n",
    "    url = f'https://b2broker.com/ru/corporate-news/page/{p}/'\n",
    "    USER = {\"User-Agent\": \"Mozilla/5.0 (Macintosh; Intel Mac OS X 10_15_7) AppleWebKit/605.1.15 (KHTML, like Gecko) Version/16.3 Safari/605.1.15\"}\n",
    "    result = requests.get(url, headers=USER)\n",
    "    soup = BeautifulSoup(result.content,'html.parser')\n",
    "    titles = soup.find_all('div', class_='b2b_event_main_content_box_info_title')\n",
    "    \n",
    "    links = []\n",
    "    texts = []\n",
    "    for n in range(1, 13):\n",
    "        for a_tag in soup.findAll(\"a\", class_=f'b2b_event_main_content_box box_number_{n}'):\n",
    "                href = a_tag.attrs.get(\"href\")\n",
    "                links.append(href)\n",
    "\n",
    "                res = requests.get(href, headers=USER)\n",
    "                soup_ = BeautifulSoup(res.content,'html.parser')\n",
    "                text = soup_.findAll('div', class_='publication_body_content_gutenberg')\n",
    "\n",
    "                texts.append(text[0].text.replace('\\n', ' ').replace('\\xa0', ' '))\n",
    "    \n",
    "    i = (p-1)*12 + 1\n",
    "    for t, l, tex in zip(titles, links, texts):\n",
    "        B2B.loc[i] = [t.get_text().strip(), l, tex]\n",
    "        i += 1"
   ]
  },
  {
   "cell_type": "markdown",
   "id": "ce277d7b",
   "metadata": {
    "id": "ce277d7b"
   },
   "source": [
    "### Яндекс"
   ]
  },
  {
   "cell_type": "code",
   "execution_count": null,
   "id": "608335e4",
   "metadata": {
    "colab": {
     "background_save": true
    },
    "id": "608335e4"
   },
   "outputs": [],
   "source": [
    "YNDX = pd.DataFrame(columns = ['Title','Link','Text'])\n",
    "c = 0\n",
    "for y in range(2010, 2024): \n",
    "    url = f'https://yandex.ru/company/press_releases/{y}'\n",
    "    USER = {\"User-Agent\": \"Mozilla/5.0 (Macintosh; Intel Mac OS X 10_15_7) AppleWebKit/605.1.15 (KHTML, like Gecko) Version/16.3 Safari/605.1.15\"}\n",
    "    result = requests.get(url, headers=USER)\n",
    "    soup = BeautifulSoup(result.content,'html.parser')\n",
    "\n",
    "    links = []\n",
    "    texts = []\n",
    "    titles = []\n",
    "    for t in soup.find_all('div', class_='pr-item pr-list__item'):\n",
    "        text = t.text\n",
    "        text = re.search(r'([A-Z]|[А-Я]|[a-z]).*', f'{text}')\n",
    "        titles.append(text[0])\n",
    "        c += 1\n",
    "    t = soup.find_all('a', class_='link link_theme_normal i-bem')\n",
    "    links.extend(list(map(lambda B: 'https://yandex.ru'+str(B.get('href')),filter(lambda x: f'{y}' in str(x.get('href')) ,t))))\n",
    "    for l in links:\n",
    "        res = requests.get(l, headers=USER)\n",
    "        soup_ = BeautifulSoup(res.content,'html.parser')\n",
    "        A = soup_.get_text().replace('\\xa0', ' ')\n",
    "        A = A.split('ЯндексКомпанияБлогВакансииРазработчикамРекламодателямСобытияНаукаОбучениеО компанииКонфиденциальностьИсторияНовостиИсследованияТехнологииОфисыКонтакты ')[1].split('КонтактыКомпания «Яндекс»')[0]\n",
    "        texts.append(A)\n",
    "   \n",
    "    i = YNDX.shape[0] + 1\n",
    "    #print(y)\n",
    "    for t, l, tex in zip(titles, links, texts):\n",
    "        YNDX.loc[i] = [t, l, tex]\n",
    "        i += 1"
   ]
  },
  {
   "cell_type": "code",
   "execution_count": null,
   "id": "69f92880",
   "metadata": {
    "id": "69f92880"
   },
   "outputs": [],
   "source": [
    "YNDX1 = pd.DataFrame(columns = ['Title','Link','Text'])\n",
    "c = 0\n",
    "for y in range(1996, 2006):\n",
    "    start = c\n",
    "    url = f'https://yandex.ru/company/press_releases/{y}'\n",
    "    USER = {\"User-Agent\": \"Mozilla/5.0 (Macintosh; Intel Mac OS X 10_15_7) AppleWebKit/605.1.15 (KHTML, like Gecko) Version/16.3 Safari/605.1.15\"}\n",
    "    result = requests.get(url, headers=USER)\n",
    "    soup = BeautifulSoup(result.content,'html.parser')\n",
    "\n",
    "    links = []\n",
    "    texts = []\n",
    "    titles = []\n",
    "    for t in soup.find_all('div', class_='pr-item pr-list__item'):\n",
    "        text = t.text\n",
    "        text = re.search(r'([A-Z]|[А-Я]|[a-z]).*', f'{text}')\n",
    "        titles.append(text[0])\n",
    "        c += 1\n",
    "    t = soup.find_all('a', class_='link link_theme_normal i-bem')\n",
    "    links.extend(list(map(lambda B: 'https://yandex.ru'+str(B.get('href')),filter(lambda x: f'{y}' in str(x.get('href')) ,t))))\n",
    "    for l in links:\n",
    "        res = requests.get(l, headers=USER)\n",
    "        soup_ = BeautifulSoup(res.content,'html.parser')\n",
    "        A = soup_.get_text().replace('\\xa0', ' ')\n",
    "        A = A.split('ЯндексКомпанияБлогВакансииРазработчикамРекламодателямСобытияНаукаОбучениеО компанииКонфиденциальностьИсторияНовостиИсследованияТехнологииОфисыКонтакты ')[1].split('КонтактыКомпания «Яндекс»')[0]\n",
    "        texts.append(A)\n",
    "    i = YNDX1.shape[0] + 1\n",
    "    #print(y)\n",
    "    for t, l, tex in zip(titles, links, texts):\n",
    "        YNDX1.loc[i] = [t, l, tex]\n",
    "        i += 1"
   ]
  },
  {
   "cell_type": "code",
   "execution_count": null,
   "id": "3a7dc6f7",
   "metadata": {
    "id": "3a7dc6f7"
   },
   "outputs": [],
   "source": [
    "YNDX2 = pd.DataFrame(columns = ['Title','Link', 'Text'])\n",
    "c = 0\n",
    "for y in range(2008, 2010):\n",
    "    url = f'https://yandex.ru/company/press_releases/{y}'\n",
    "    USER = {\"User-Agent\": \"Mozilla/5.0 (Macintosh; Intel Mac OS X 10_15_7) AppleWebKit/605.1.15 (KHTML, like Gecko) Version/16.3 Safari/605.1.15\"}\n",
    "    result = requests.get(url, headers=USER)\n",
    "    soup = BeautifulSoup(result.content,'html.parser')\n",
    "\n",
    "    links = []\n",
    "    texts = []\n",
    "    titles = []\n",
    "    for t in soup.find_all('div', class_='pr-item pr-list__item'):\n",
    "        text = t.text\n",
    "        text = re.search(r'([A-Z]|[А-Я]|[a-z]|50).*', f'{text}')\n",
    "        titles.append(text[0])\n",
    "        \n",
    "    t = soup.find_all('a', class_='link link_theme_normal i-bem')\n",
    "    links.extend(list(map(lambda B: 'https://yandex.ru'+str(B.get('href')),filter(lambda x: f'{y}' in str(x.get('href')) ,t))))\n",
    "    for l in links:\n",
    "        res = requests.get(l, headers=USER)\n",
    "        soup_ = BeautifulSoup(res.content,'html.parser')\n",
    "        A = soup_.get_text().replace('\\xa0', ' ')\n",
    "        A = A.split('ЯндексКомпанияБлогВакансииРазработчикамРекламодателямСобытияНаукаОбучениеО компанииКонфиденциальностьИсторияНовостиИсследованияТехнологииОфисыКонтакты ')[1].split('КонтактыКомпания «Яндекс»')[0]\n",
    "        texts.append(A)\n",
    "   \n",
    "    i = YNDX2.shape[0] + 1\n",
    "    #print(y)\n",
    "    for t, l, tex in zip(titles, links, texts):\n",
    "        YNDX2.loc[i] = [t, l, tex]\n",
    "        i += 1"
   ]
  },
  {
   "cell_type": "code",
   "execution_count": null,
   "id": "562c13dc",
   "metadata": {
    "colab": {
     "background_save": true
    },
    "collapsed": true,
    "id": "562c13dc"
   },
   "outputs": [],
   "source": [
    "F_YNDX = YNDX1.append(YNDX2, sort=False) # датасет с новостями Яндекса: 825 новостей\n",
    "F_YNDX = F_YNDX.append(YNDX, sort=False)"
   ]
  },
  {
   "cell_type": "code",
   "execution_count": null,
   "id": "adf17061",
   "metadata": {
    "colab": {
     "base_uri": "https://localhost:8080/",
     "height": 633
    },
    "id": "adf17061",
    "outputId": "9468d153-6bc9-4b00-8167-9b5db08673e8"
   },
   "outputs": [
    {
     "data": {
      "text/html": [
       "\n",
       "  <div id=\"df-e5a0c3fc-c612-4a7c-abc9-611b819ca922\">\n",
       "    <div class=\"colab-df-container\">\n",
       "      <div>\n",
       "<style scoped>\n",
       "    .dataframe tbody tr th:only-of-type {\n",
       "        vertical-align: middle;\n",
       "    }\n",
       "\n",
       "    .dataframe tbody tr th {\n",
       "        vertical-align: top;\n",
       "    }\n",
       "\n",
       "    .dataframe thead th {\n",
       "        text-align: right;\n",
       "    }\n",
       "</style>\n",
       "<table border=\"1\" class=\"dataframe\">\n",
       "  <thead>\n",
       "    <tr style=\"text-align: right;\">\n",
       "      <th></th>\n",
       "      <th>Title</th>\n",
       "      <th>Link</th>\n",
       "      <th>Text</th>\n",
       "    </tr>\n",
       "  </thead>\n",
       "  <tbody>\n",
       "    <tr>\n",
       "      <th>0</th>\n",
       "      <td>Yandex.ru переехал в новое место (МТУ-Информ)....</td>\n",
       "      <td>https://yandex.ru/company/press_releases/1997/...</td>\n",
       "      <td>Главные новости1997Yandex.ru становится станда...</td>\n",
       "    </tr>\n",
       "    <tr>\n",
       "      <th>1</th>\n",
       "      <td>Yandex.ru становится стандартным средством пои...</td>\n",
       "      <td>https://yandex.ru/company/press_releases/1997/...</td>\n",
       "      <td>Главные новости1997Новое лицо yandex.ru. Естес...</td>\n",
       "    </tr>\n",
       "    <tr>\n",
       "      <th>2</th>\n",
       "      <td>Новое лицо yandex.ru. Естественно-языковый зап...</td>\n",
       "      <td>https://yandex.ru/company/press_releases/1997/...</td>\n",
       "      <td>Главные новости1997Web - гуманизм или чернуха?...</td>\n",
       "    </tr>\n",
       "    <tr>\n",
       "      <th>3</th>\n",
       "      <td>Ранжирование результата поиска. Открыт пользов...</td>\n",
       "      <td>https://yandex.ru/company/press_releases/1997/...</td>\n",
       "      <td>Главные новости1997Запущена новая поисковая ма...</td>\n",
       "    </tr>\n",
       "    <tr>\n",
       "      <th>4</th>\n",
       "      <td>В «Академическом поиске» появилась возможность...</td>\n",
       "      <td>https://yandex.ru/company/press_releases/1998/...</td>\n",
       "      <td>Главные новости1998Сцены из жизни поисковой ма...</td>\n",
       "    </tr>\n",
       "    <tr>\n",
       "      <th>...</th>\n",
       "      <td>...</td>\n",
       "      <td>...</td>\n",
       "      <td>...</td>\n",
       "    </tr>\n",
       "    <tr>\n",
       "      <th>822</th>\n",
       "      <td>Яндекс Лавку возглавит Вадим Петров</td>\n",
       "      <td>https://yandex.ru/company/press_releases/2023/...</td>\n",
       "      <td>Главные новости2023Яндекс Лавку возглавит Вади...</td>\n",
       "    </tr>\n",
       "    <tr>\n",
       "      <th>823</th>\n",
       "      <td>Дмитрий Масюк возглавит бизнес-группу Поиска и...</td>\n",
       "      <td>https://yandex.ru/company/press_releases/2023/...</td>\n",
       "      <td>Главные новости2023Дмитрий Масюк возглавит биз...</td>\n",
       "    </tr>\n",
       "    <tr>\n",
       "      <th>824</th>\n",
       "      <td>Публикация кода: Яндекс раскрывает первые резу...</td>\n",
       "      <td>https://yandex.ru/company/press_releases/2023/...</td>\n",
       "      <td>Главные новости2023Публикация кода: Яндекс рас...</td>\n",
       "    </tr>\n",
       "    <tr>\n",
       "      <th>825</th>\n",
       "      <td>Нейросети Яндекса расшифруют архивные рукописн...</td>\n",
       "      <td>https://yandex.ru/company/press_releases/2023/...</td>\n",
       "      <td>Главные новости2023Нейросети Яндекса расшифрую...</td>\n",
       "    </tr>\n",
       "    <tr>\n",
       "      <th>826</th>\n",
       "      <td>Яндекс Такси запускает новый финансовый сервис...</td>\n",
       "      <td>https://yandex.ru/company/press_releases/2023/...</td>\n",
       "      <td>Главные новости2023Яндекс Такси запускает новы...</td>\n",
       "    </tr>\n",
       "  </tbody>\n",
       "</table>\n",
       "<p>827 rows × 3 columns</p>\n",
       "</div>\n",
       "      <button class=\"colab-df-convert\" onclick=\"convertToInteractive('df-e5a0c3fc-c612-4a7c-abc9-611b819ca922')\"\n",
       "              title=\"Convert this dataframe to an interactive table.\"\n",
       "              style=\"display:none;\">\n",
       "        \n",
       "  <svg xmlns=\"http://www.w3.org/2000/svg\" height=\"24px\"viewBox=\"0 0 24 24\"\n",
       "       width=\"24px\">\n",
       "    <path d=\"M0 0h24v24H0V0z\" fill=\"none\"/>\n",
       "    <path d=\"M18.56 5.44l.94 2.06.94-2.06 2.06-.94-2.06-.94-.94-2.06-.94 2.06-2.06.94zm-11 1L8.5 8.5l.94-2.06 2.06-.94-2.06-.94L8.5 2.5l-.94 2.06-2.06.94zm10 10l.94 2.06.94-2.06 2.06-.94-2.06-.94-.94-2.06-.94 2.06-2.06.94z\"/><path d=\"M17.41 7.96l-1.37-1.37c-.4-.4-.92-.59-1.43-.59-.52 0-1.04.2-1.43.59L10.3 9.45l-7.72 7.72c-.78.78-.78 2.05 0 2.83L4 21.41c.39.39.9.59 1.41.59.51 0 1.02-.2 1.41-.59l7.78-7.78 2.81-2.81c.8-.78.8-2.07 0-2.86zM5.41 20L4 18.59l7.72-7.72 1.47 1.35L5.41 20z\"/>\n",
       "  </svg>\n",
       "      </button>\n",
       "      \n",
       "  <style>\n",
       "    .colab-df-container {\n",
       "      display:flex;\n",
       "      flex-wrap:wrap;\n",
       "      gap: 12px;\n",
       "    }\n",
       "\n",
       "    .colab-df-convert {\n",
       "      background-color: #E8F0FE;\n",
       "      border: none;\n",
       "      border-radius: 50%;\n",
       "      cursor: pointer;\n",
       "      display: none;\n",
       "      fill: #1967D2;\n",
       "      height: 32px;\n",
       "      padding: 0 0 0 0;\n",
       "      width: 32px;\n",
       "    }\n",
       "\n",
       "    .colab-df-convert:hover {\n",
       "      background-color: #E2EBFA;\n",
       "      box-shadow: 0px 1px 2px rgba(60, 64, 67, 0.3), 0px 1px 3px 1px rgba(60, 64, 67, 0.15);\n",
       "      fill: #174EA6;\n",
       "    }\n",
       "\n",
       "    [theme=dark] .colab-df-convert {\n",
       "      background-color: #3B4455;\n",
       "      fill: #D2E3FC;\n",
       "    }\n",
       "\n",
       "    [theme=dark] .colab-df-convert:hover {\n",
       "      background-color: #434B5C;\n",
       "      box-shadow: 0px 1px 3px 1px rgba(0, 0, 0, 0.15);\n",
       "      filter: drop-shadow(0px 1px 2px rgba(0, 0, 0, 0.3));\n",
       "      fill: #FFFFFF;\n",
       "    }\n",
       "  </style>\n",
       "\n",
       "      <script>\n",
       "        const buttonEl =\n",
       "          document.querySelector('#df-e5a0c3fc-c612-4a7c-abc9-611b819ca922 button.colab-df-convert');\n",
       "        buttonEl.style.display =\n",
       "          google.colab.kernel.accessAllowed ? 'block' : 'none';\n",
       "\n",
       "        async function convertToInteractive(key) {\n",
       "          const element = document.querySelector('#df-e5a0c3fc-c612-4a7c-abc9-611b819ca922');\n",
       "          const dataTable =\n",
       "            await google.colab.kernel.invokeFunction('convertToInteractive',\n",
       "                                                     [key], {});\n",
       "          if (!dataTable) return;\n",
       "\n",
       "          const docLinkHtml = 'Like what you see? Visit the ' +\n",
       "            '<a target=\"_blank\" href=https://colab.research.google.com/notebooks/data_table.ipynb>data table notebook</a>'\n",
       "            + ' to learn more about interactive tables.';\n",
       "          element.innerHTML = '';\n",
       "          dataTable['output_type'] = 'display_data';\n",
       "          await google.colab.output.renderOutput(dataTable, element);\n",
       "          const docLink = document.createElement('div');\n",
       "          docLink.innerHTML = docLinkHtml;\n",
       "          element.appendChild(docLink);\n",
       "        }\n",
       "      </script>\n",
       "    </div>\n",
       "  </div>\n",
       "  "
      ],
      "text/plain": [
       "                                                 Title  \\\n",
       "0    Yandex.ru переехал в новое место (МТУ-Информ)....   \n",
       "1    Yandex.ru становится стандартным средством пои...   \n",
       "2    Новое лицо yandex.ru. Естественно-языковый зап...   \n",
       "3    Ранжирование результата поиска. Открыт пользов...   \n",
       "4    В «Академическом поиске» появилась возможность...   \n",
       "..                                                 ...   \n",
       "822                Яндекс Лавку возглавит Вадим Петров   \n",
       "823  Дмитрий Масюк возглавит бизнес-группу Поиска и...   \n",
       "824  Публикация кода: Яндекс раскрывает первые резу...   \n",
       "825  Нейросети Яндекса расшифруют архивные рукописн...   \n",
       "826  Яндекс Такси запускает новый финансовый сервис...   \n",
       "\n",
       "                                                  Link  \\\n",
       "0    https://yandex.ru/company/press_releases/1997/...   \n",
       "1    https://yandex.ru/company/press_releases/1997/...   \n",
       "2    https://yandex.ru/company/press_releases/1997/...   \n",
       "3    https://yandex.ru/company/press_releases/1997/...   \n",
       "4    https://yandex.ru/company/press_releases/1998/...   \n",
       "..                                                 ...   \n",
       "822  https://yandex.ru/company/press_releases/2023/...   \n",
       "823  https://yandex.ru/company/press_releases/2023/...   \n",
       "824  https://yandex.ru/company/press_releases/2023/...   \n",
       "825  https://yandex.ru/company/press_releases/2023/...   \n",
       "826  https://yandex.ru/company/press_releases/2023/...   \n",
       "\n",
       "                                                  Text  \n",
       "0    Главные новости1997Yandex.ru становится станда...  \n",
       "1    Главные новости1997Новое лицо yandex.ru. Естес...  \n",
       "2    Главные новости1997Web - гуманизм или чернуха?...  \n",
       "3    Главные новости1997Запущена новая поисковая ма...  \n",
       "4    Главные новости1998Сцены из жизни поисковой ма...  \n",
       "..                                                 ...  \n",
       "822  Главные новости2023Яндекс Лавку возглавит Вади...  \n",
       "823  Главные новости2023Дмитрий Масюк возглавит биз...  \n",
       "824  Главные новости2023Публикация кода: Яндекс рас...  \n",
       "825  Главные новости2023Нейросети Яндекса расшифрую...  \n",
       "826  Главные новости2023Яндекс Такси запускает новы...  \n",
       "\n",
       "[827 rows x 3 columns]"
      ]
     },
     "execution_count": 24,
     "metadata": {},
     "output_type": "execute_result"
    }
   ],
   "source": [
    "F_YNDX = F_YNDX.reset_index()\n",
    "F_YNDX = F_YNDX.iloc[:, 1:]\n",
    "F_YNDX"
   ]
  },
  {
   "cell_type": "code",
   "execution_count": null,
   "id": "tMSwQfXe53pT",
   "metadata": {
    "id": "tMSwQfXe53pT"
   },
   "outputs": [],
   "source": [
    "# загрузка датасета в файл csv\n",
    "#F_YNDX.to_csv(r'/Users/liza/Desktop/Учеба/Курсовая/full_yandex.csv', index=False)"
   ]
  },
  {
   "cell_type": "code",
   "execution_count": null,
   "id": "73b1e2b5",
   "metadata": {
    "id": "73b1e2b5"
   },
   "outputs": [],
   "source": [
    "#B2B.to_csv(r'/Users/liza/Desktop/Учеба/Курсовая/B2Broker.csv', index=False)"
   ]
  },
  {
   "cell_type": "code",
   "execution_count": null,
   "id": "300af47b",
   "metadata": {
    "id": "300af47b"
   },
   "outputs": [],
   "source": [
    "#RBC.to_csv(r'/Users/liza/Desktop/Учеба/Курсовая/RBC.csv', index=False)"
   ]
  },
  {
   "cell_type": "markdown",
   "id": "327764fb",
   "metadata": {
    "id": "327764fb"
   },
   "source": [
    "###### Получаем датасет на 825 корпоративных новостей Яндекса на различные тематики. \n",
    "##### 1 - Продукты, услуги и новые технологии, 2 - Отчетность и финансовые показатели, 3 - Структура бизнеса (в т.ч. сделки) ,  4 - Политика компании и внутренние решения, 5 - Другое "
   ]
  },
  {
   "cell_type": "code",
   "execution_count": 40,
   "id": "b380c2ef",
   "metadata": {
    "colab": {
     "base_uri": "https://localhost:8080/",
     "height": 419
    },
    "id": "b380c2ef",
    "outputId": "5dfd507b-99b3-463c-d216-e8be38dda597"
   },
   "outputs": [
    {
     "data": {
      "text/html": [
       "<div>\n",
       "<style scoped>\n",
       "    .dataframe tbody tr th:only-of-type {\n",
       "        vertical-align: middle;\n",
       "    }\n",
       "\n",
       "    .dataframe tbody tr th {\n",
       "        vertical-align: top;\n",
       "    }\n",
       "\n",
       "    .dataframe thead th {\n",
       "        text-align: right;\n",
       "    }\n",
       "</style>\n",
       "<table border=\"1\" class=\"dataframe\">\n",
       "  <thead>\n",
       "    <tr style=\"text-align: right;\">\n",
       "      <th></th>\n",
       "      <th>Title</th>\n",
       "      <th>Link</th>\n",
       "      <th>Text</th>\n",
       "    </tr>\n",
       "  </thead>\n",
       "  <tbody>\n",
       "    <tr>\n",
       "      <th>0</th>\n",
       "      <td>Yandex.ru переехал в новое место (МТУ-Информ)....</td>\n",
       "      <td>https://yandex.ru/company/press_releases/1997/...</td>\n",
       "      <td>Главные новости1997Yandex.ru становится станда...</td>\n",
       "    </tr>\n",
       "    <tr>\n",
       "      <th>1</th>\n",
       "      <td>Yandex.ru становится стандартным средством пои...</td>\n",
       "      <td>https://yandex.ru/company/press_releases/1997/...</td>\n",
       "      <td>Главные новости1997Новое лицо yandex.ru. Естес...</td>\n",
       "    </tr>\n",
       "    <tr>\n",
       "      <th>2</th>\n",
       "      <td>Новое лицо yandex.ru. Естественно-языковый зап...</td>\n",
       "      <td>https://yandex.ru/company/press_releases/1997/...</td>\n",
       "      <td>Главные новости1997Web - гуманизм или чернуха?...</td>\n",
       "    </tr>\n",
       "    <tr>\n",
       "      <th>3</th>\n",
       "      <td>Ранжирование результата поиска. Открыт пользов...</td>\n",
       "      <td>https://yandex.ru/company/press_releases/1997/...</td>\n",
       "      <td>Главные новости1997Запущена новая поисковая ма...</td>\n",
       "    </tr>\n",
       "    <tr>\n",
       "      <th>4</th>\n",
       "      <td>В «Академическом поиске» появилась возможность...</td>\n",
       "      <td>https://yandex.ru/company/press_releases/1998/...</td>\n",
       "      <td>Главные новости1998Сцены из жизни поисковой ма...</td>\n",
       "    </tr>\n",
       "    <tr>\n",
       "      <th>...</th>\n",
       "      <td>...</td>\n",
       "      <td>...</td>\n",
       "      <td>...</td>\n",
       "    </tr>\n",
       "    <tr>\n",
       "      <th>820</th>\n",
       "      <td>Яндекс Лавку возглавит Вадим Петров</td>\n",
       "      <td>https://yandex.ru/company/press_releases/2023/...</td>\n",
       "      <td>Главные новости2023Яндекс Лавку возглавит Вади...</td>\n",
       "    </tr>\n",
       "    <tr>\n",
       "      <th>821</th>\n",
       "      <td>Дмитрий Масюк возглавит бизнес-группу Поиска и...</td>\n",
       "      <td>https://yandex.ru/company/press_releases/2023/...</td>\n",
       "      <td>Главные новости2023Дмитрий Масюк возглавит биз...</td>\n",
       "    </tr>\n",
       "    <tr>\n",
       "      <th>822</th>\n",
       "      <td>Публикация кода: Яндекс раскрывает первые резу...</td>\n",
       "      <td>https://yandex.ru/company/press_releases/2023/...</td>\n",
       "      <td>Главные новости2023Публикация кода: Яндекс рас...</td>\n",
       "    </tr>\n",
       "    <tr>\n",
       "      <th>823</th>\n",
       "      <td>Нейросети Яндекса расшифруют архивные рукописн...</td>\n",
       "      <td>https://yandex.ru/company/press_releases/2023/...</td>\n",
       "      <td>Главные новости2023Нейросети Яндекса расшифрую...</td>\n",
       "    </tr>\n",
       "    <tr>\n",
       "      <th>824</th>\n",
       "      <td>Яндекс Такси запускает новый финансовый сервис...</td>\n",
       "      <td>https://yandex.ru/company/press_releases/2023/...</td>\n",
       "      <td>Главные новости2023Яндекс Такси запускает новы...</td>\n",
       "    </tr>\n",
       "  </tbody>\n",
       "</table>\n",
       "<p>825 rows × 3 columns</p>\n",
       "</div>"
      ],
      "text/plain": [
       "                                                 Title  \\\n",
       "0    Yandex.ru переехал в новое место (МТУ-Информ)....   \n",
       "1    Yandex.ru становится стандартным средством пои...   \n",
       "2    Новое лицо yandex.ru. Естественно-языковый зап...   \n",
       "3    Ранжирование результата поиска. Открыт пользов...   \n",
       "4    В «Академическом поиске» появилась возможность...   \n",
       "..                                                 ...   \n",
       "820                Яндекс Лавку возглавит Вадим Петров   \n",
       "821  Дмитрий Масюк возглавит бизнес-группу Поиска и...   \n",
       "822  Публикация кода: Яндекс раскрывает первые резу...   \n",
       "823  Нейросети Яндекса расшифруют архивные рукописн...   \n",
       "824  Яндекс Такси запускает новый финансовый сервис...   \n",
       "\n",
       "                                                  Link  \\\n",
       "0    https://yandex.ru/company/press_releases/1997/...   \n",
       "1    https://yandex.ru/company/press_releases/1997/...   \n",
       "2    https://yandex.ru/company/press_releases/1997/...   \n",
       "3    https://yandex.ru/company/press_releases/1997/...   \n",
       "4    https://yandex.ru/company/press_releases/1998/...   \n",
       "..                                                 ...   \n",
       "820  https://yandex.ru/company/press_releases/2023/...   \n",
       "821  https://yandex.ru/company/press_releases/2023/...   \n",
       "822  https://yandex.ru/company/press_releases/2023/...   \n",
       "823  https://yandex.ru/company/press_releases/2023/...   \n",
       "824  https://yandex.ru/company/press_releases/2023/...   \n",
       "\n",
       "                                                  Text  \n",
       "0    Главные новости1997Yandex.ru становится станда...  \n",
       "1    Главные новости1997Новое лицо yandex.ru. Естес...  \n",
       "2    Главные новости1997Web - гуманизм или чернуха?...  \n",
       "3    Главные новости1997Запущена новая поисковая ма...  \n",
       "4    Главные новости1998Сцены из жизни поисковой ма...  \n",
       "..                                                 ...  \n",
       "820  Главные новости2023Яндекс Лавку возглавит Вади...  \n",
       "821  Главные новости2023Дмитрий Масюк возглавит биз...  \n",
       "822  Главные новости2023Публикация кода: Яндекс рас...  \n",
       "823  Главные новости2023Нейросети Яндекса расшифрую...  \n",
       "824  Главные новости2023Яндекс Такси запускает новы...  \n",
       "\n",
       "[825 rows x 3 columns]"
      ]
     },
     "execution_count": 40,
     "metadata": {},
     "output_type": "execute_result"
    }
   ],
   "source": [
    "data_yandex = pd.read_csv('full_yandex.csv') \n",
    "data_yandex"
   ]
  },
  {
   "cell_type": "markdown",
   "id": "206accf7",
   "metadata": {},
   "source": [
    "Описание данных:\n",
    "825 строк\n",
    "1. Title - заголовок новости \n",
    "\n",
    "2. Link -  ссылка на новость\n",
    "\n",
    "3. Text - текст новости"
   ]
  },
  {
   "cell_type": "markdown",
   "id": "d712bbba",
   "metadata": {
    "id": "d712bbba"
   },
   "source": [
    "# Очистка и преобразование данных"
   ]
  },
  {
   "cell_type": "code",
   "execution_count": 43,
   "id": "c597368f",
   "metadata": {
    "id": "c597368f"
   },
   "outputs": [],
   "source": [
    "# для начала нам необходимо удалить все лишние знаки\n",
    "\n",
    "cleaned_data = data_yandex['Text'].apply(lambda x: re.sub(re.compile('[^А-Яа-яA-Za-z0-9]+'), ' ', x))\n",
    " # оставим в текстах новостей только слова (без знаков)\n",
    "cleaned_data = cleaned_data.apply(lambda x: x.lower()) # для обработки слов \n",
    "\n",
    "# разделим текст новости на отдельные слова\n",
    "tokenized_data = cleaned_data.apply(lambda x: word_tokenize(x))\n",
    "\n",
    "stop_words = stopwords.words(\"russian\") # используем пакет стоп-слов на русском\n",
    "\n",
    "filtered_data = tokenized_data.apply(lambda x: [word for word in x if word not in stop_words])\n",
    "# удаление стоп слов"
   ]
  },
  {
   "cell_type": "code",
   "execution_count": 44,
   "id": "4fbeb4ce",
   "metadata": {
    "colab": {
     "base_uri": "https://localhost:8080/"
    },
    "id": "4fbeb4ce",
    "outputId": "a564e1b6-cc72-46c5-cce2-c317add59886"
   },
   "outputs": [
    {
     "data": {
      "text/plain": [
       "0      [главн, новости1997ыандеx, ru, станов, стандар...\n",
       "1      [главн, новости1997нов, лиц, yandex, ru, естес...\n",
       "2      [главн, новости1997wеб, гуманизм, чернух, сего...\n",
       "3      [главн, новости1997запущ, нов, поисков, машин,...\n",
       "4      [главн, новости1998сц, жизн, поисков, машиныз,...\n",
       "                             ...                        \n",
       "820    [главн, новости2023яндекс, лавк, возглав, вад,...\n",
       "821    [главн, новости2023дмитр, масюк, возглав, бизн...\n",
       "822    [главн, новости2023публикац, код, яндекс, раск...\n",
       "823    [главн, новости2023нейросет, яндекс, расшифр, ...\n",
       "824    [главн, новости2023яндекс, такс, запуска, нов,...\n",
       "Name: Text, Length: 825, dtype: object"
      ]
     },
     "execution_count": 44,
     "metadata": {},
     "output_type": "execute_result"
    }
   ],
   "source": [
    "# стеммизация - процесс приведения слова к его корню/основе\n",
    "stemmer = SnowballStemmer(\"russian\") \n",
    "\n",
    "stemmed_data = filtered_data.apply(lambda x:[stemmer.stem(word) for word in x])\n",
    "stemmed_data # этот метод убирает окончания, соответсвенно, он нам не подходит в случае\n",
    "# слова \"главный\", его он преобразует в \"главн\", что нам не подходит"
   ]
  },
  {
   "cell_type": "code",
   "execution_count": 45,
   "id": "9fd105ae",
   "metadata": {
    "id": "9fd105ae"
   },
   "outputs": [],
   "source": [
    "# чтобы правильно провести стемматизацию воспользуемся библиотекой pymorphy2\n",
    "\n",
    "morph = pymorphy2.MorphAnalyzer()\n",
    "morph_data = filtered_data.apply(lambda x:[morph.parse(word)[0].normal_form for word in x][2:])"
   ]
  },
  {
   "cell_type": "code",
   "execution_count": 46,
   "id": "9fd26241",
   "metadata": {
    "colab": {
     "base_uri": "https://localhost:8080/"
    },
    "id": "9fd26241",
    "outputId": "a3feabfa-3491-455a-ac57-d12acfa771f3"
   },
   "outputs": [
    {
     "data": {
      "text/plain": [
       "0      [ru, становиться, стандартный, средство, поиск...\n",
       "1      [лицо, yandex, ru, естественно, языковый, запр...\n",
       "2      [гуманизм, чернуха, сегодня, точно, ответить, ...\n",
       "3      [новый, поисковый, машина, яndex, web23, сентя...\n",
       "4      [жизнь, поисковый, машиныз, год, жизнь, yandex...\n",
       "                             ...                        \n",
       "820    [лавка, возглавить, вадим, петровнов, глава, я...\n",
       "821    [масюк, возглавить, бизнес, группа, поиск, рек...\n",
       "822    [код, яндекс, раскрывать, первый, результат, р...\n",
       "823    [яндекс, расшифровать, архивный, рукописный, д...\n",
       "824    [такси, запускать, новый, финансовый, сервис, ...\n",
       "Name: Text, Length: 825, dtype: object"
      ]
     },
     "execution_count": 46,
     "metadata": {},
     "output_type": "execute_result"
    }
   ],
   "source": [
    "morph_data "
   ]
  },
  {
   "cell_type": "code",
   "execution_count": 47,
   "id": "7c753ba8",
   "metadata": {
    "colab": {
     "base_uri": "https://localhost:8080/"
    },
    "id": "7c753ba8",
    "outputId": "1340f6ff-5d66-4b5c-a071-13ad0b2671b9"
   },
   "outputs": [
    {
     "data": {
      "text/plain": [
       "0      ru становиться стандартный средство поиск русс...\n",
       "1      лицо yandex ru естественно языковый запрос 18 ...\n",
       "2      гуманизм чернуха сегодня точно ответить гумани...\n",
       "3      новый поисковый машина яndex web23 сентябрь 19...\n",
       "4      жизнь поисковый машиныз год жизнь yandex ru ад...\n",
       "                             ...                        \n",
       "820    лавка возглавить вадим петровнов глава яндекс ...\n",
       "821    масюк возглавить бизнес группа поиск рекламный...\n",
       "822    код яндекс раскрывать первый результат расслед...\n",
       "823    яндекс расшифровать архивный рукописный докуме...\n",
       "824    такси запускать новый финансовый сервис водите...\n",
       "Name: Text, Length: 825, dtype: object"
      ]
     },
     "execution_count": 47,
     "metadata": {},
     "output_type": "execute_result"
    }
   ],
   "source": [
    "morph_data = morph_data.apply(lambda x: ' '.join(x)) # приводим к строковому типу\n",
    "morph_data"
   ]
  },
  {
   "cell_type": "code",
   "execution_count": 48,
   "id": "b6c15f84",
   "metadata": {
    "colab": {
     "base_uri": "https://localhost:8080/",
     "height": 137
    },
    "id": "b6c15f84",
    "outputId": "7ddb2985-ea47-4bad-ff50-8c89e5247e73"
   },
   "outputs": [
    {
     "data": {
      "text/plain": [
       "'лицо yandex ru естественно языковый запрос 18 ноябрь москва компания comptek сообщать оба открытие новый интерфейс поисковый машина yandex ru задать запрос естественный язык лишь общий вид представлять область поиск сторона язык запрос понятие релевантность яndex настолько развиться позволять успешно работать неформальный запрос задать запрос например русский кириллический шрифт windows получить список документ относиться дать тема часть который очередь дать дальнейший ссылка мочь регулировать мягкость запрос выбирать параметр поле сколько найти умолчание стоить параметр стоить изменять сторона увеличение документ найти сторона уменьшение мало найти слишком документ связь мягкость количество обратный мягкий запрос документ найтись статистика показывать менее десять процент пользователь хотя заходить страница http yandex ru ya detail html описать синтаксис запрос это понятно интернет начинаться инструмент учёный военный пользоваться человек технический специальность'"
      ]
     },
     "execution_count": 48,
     "metadata": {},
     "output_type": "execute_result"
    }
   ],
   "source": [
    "morph_data[1] # пример того, как выглядит обработанная новость"
   ]
  },
  {
   "cell_type": "markdown",
   "id": "3864f826",
   "metadata": {
    "id": "3864f826"
   },
   "source": [
    "## Классификация датасета"
   ]
  },
  {
   "cell_type": "code",
   "execution_count": 129,
   "id": "d49670dd",
   "metadata": {
    "id": "d49670dd"
   },
   "outputs": [],
   "source": [
    "development = ['распознавание','возможность','показание', 'выходить', 'рекомендации', 'образовательный',\n",
    "               'научить', 'расшифровать','услуга','умный','дом', 'проект', 'анонсировать', 'эффективность',\n",
    "               'большой', 'данные', 'обработка', 'моделирование', 'алгоритм', 'угадывать', 'исследовать', \n",
    "               'исследование', 'расширять', 'распознавание', 'персональный', 'поиск', 'пользователь',\n",
    "               'рейтинг', 'машинный', 'перевод', 'технология', 'развитие', 'исследовать', 'сервис', \n",
    "               'фото', 'школа', 'нейросеть', 'искать','техника', 'интерфейс', 'доставка', 'мобильный', 'приложение', 'подписка', 'помочь', 'открыть',\n",
    "            'персонализация', 'инновация', 'продукт', 'удобный', 'управление', 'сервис', 'облачный', 'открывать', \n",
    "           'выпустить', 'раздел', 'появиться', 'запускать', 'подписка', 'акция', 'просьба', 'реклама', \n",
    "           'карта', 'пользователь', 'общение', 'новый', 'возможность', 'искать', 'испытание', \n",
    "               'премьера', 'усилить', 'защита']\n",
    "finance = ['квартал', 'прибыль', 'рентабельность', 'выручка', 'ликвидность', 'EBITDA', 'рост',\n",
    "           'бухгалтерский', 'учет', 'доход',  'финансовый', 'результат', 'миллион', 'отчет', 'отчёт'] \n",
    "#EBITDA - объём прибыли до вычета расходов по выплате процентов, налогов, износа и начисленной амортизации\n",
    "structure = ['офис', 'покупка', 'площадка', 'совместный', 'бизнес', 'выкуп', 'покупка', 'капитал', 'часть',\n",
    "             'уход', 'компания', 'семейный', 'структура', 'договор', 'соглашение', 'владеть', 'владелец', \n",
    "             'назначать', 'возглавить', 'часть', 'договориться', 'возглавить', 'сотрудничество', 'переворот', 'информация', \n",
    "             'чистый','прибыль', 'приобрести', 'слияние', 'сделка', 'партнер', 'покупать', 'совладелец',\n",
    "             'рынок', 'выходить', 'стать', 'закрыть', 'продать', 'генеральный', 'директор', 'бизнес', 'группа',\n",
    "            'руководить', 'назначение', 'пост', 'он', 'вернуться', 'руководство', 'сотрудничество', 'договориться']\n",
    "policy = ['регистрация', 'учетный', 'запись', 'изменение', 'управление', 'этика', 'правило', 'запрет',\n",
    "          'помощь', 'изменить', \n",
    "          'апелляция', 'решение', 'делистинг', 'поддержка']\n",
    "other = ['финал', 'полуфинал', 'кубок', 'заявление', 'премия', 'лауреат', 'фестиваль', 'премия', 'поздравление', \n",
    "         'марафон', 'стартовать', 'сбой', 'лучший', 'причина', 'участие', 'принять', 'приглашать', 'конкурс', \n",
    "        'встретиться', 'первый', 'тур', 'второй', 'семинар', 'урок', 'стипендия', 'заявка', 'кубок', 'чемпион']"
   ]
  },
  {
   "cell_type": "markdown",
   "id": "17717ff1",
   "metadata": {
    "id": "17717ff1"
   },
   "source": [
    "### 1 - Продукты, услуги и новые технологии, 2 - Отчетность и финансовые показатели, 3 - Структура бизнеса (в т.ч. сделки) ,  4 - Политика компании и внутренние решения, 5 - Другое "
   ]
  },
  {
   "cell_type": "code",
   "execution_count": null,
   "id": "ed11fb25",
   "metadata": {
    "id": "ed11fb25"
   },
   "outputs": [],
   "source": [
    "data_yandex['Category'] = ['0']*data_yandex.shape[0]"
   ]
  },
  {
   "cell_type": "code",
   "execution_count": null,
   "id": "05308a58",
   "metadata": {
    "colab": {
     "base_uri": "https://localhost:8080/",
     "height": 633
    },
    "id": "05308a58",
    "outputId": "79028630-3894-4d95-a7bc-7fc0cbe2e733"
   },
   "outputs": [
    {
     "data": {
      "text/html": [
       "\n",
       "  <div id=\"df-0f3e0526-d86b-4209-b190-39ae2b8ba2d9\">\n",
       "    <div class=\"colab-df-container\">\n",
       "      <div>\n",
       "<style scoped>\n",
       "    .dataframe tbody tr th:only-of-type {\n",
       "        vertical-align: middle;\n",
       "    }\n",
       "\n",
       "    .dataframe tbody tr th {\n",
       "        vertical-align: top;\n",
       "    }\n",
       "\n",
       "    .dataframe thead th {\n",
       "        text-align: right;\n",
       "    }\n",
       "</style>\n",
       "<table border=\"1\" class=\"dataframe\">\n",
       "  <thead>\n",
       "    <tr style=\"text-align: right;\">\n",
       "      <th></th>\n",
       "      <th>Title</th>\n",
       "      <th>Link</th>\n",
       "      <th>Text</th>\n",
       "      <th>Category</th>\n",
       "    </tr>\n",
       "  </thead>\n",
       "  <tbody>\n",
       "    <tr>\n",
       "      <th>0</th>\n",
       "      <td>Yandex.ru переехал в новое место (МТУ-Информ)....</td>\n",
       "      <td>https://yandex.ru/company/press_releases/1997/...</td>\n",
       "      <td>Главные новости1997Yandex.ru становится станда...</td>\n",
       "      <td>5</td>\n",
       "    </tr>\n",
       "    <tr>\n",
       "      <th>1</th>\n",
       "      <td>Yandex.ru становится стандартным средством пои...</td>\n",
       "      <td>https://yandex.ru/company/press_releases/1997/...</td>\n",
       "      <td>Главные новости1997Новое лицо yandex.ru. Естес...</td>\n",
       "      <td>5</td>\n",
       "    </tr>\n",
       "    <tr>\n",
       "      <th>2</th>\n",
       "      <td>Новое лицо yandex.ru. Естественно-языковый зап...</td>\n",
       "      <td>https://yandex.ru/company/press_releases/1997/...</td>\n",
       "      <td>Главные новости1997Web - гуманизм или чернуха?...</td>\n",
       "      <td>5</td>\n",
       "    </tr>\n",
       "    <tr>\n",
       "      <th>3</th>\n",
       "      <td>Ранжирование результата поиска. Открыт пользов...</td>\n",
       "      <td>https://yandex.ru/company/press_releases/1997/...</td>\n",
       "      <td>Главные новости1997Запущена новая поисковая ма...</td>\n",
       "      <td>5</td>\n",
       "    </tr>\n",
       "    <tr>\n",
       "      <th>4</th>\n",
       "      <td>В «Академическом поиске» появилась возможность...</td>\n",
       "      <td>https://yandex.ru/company/press_releases/1998/...</td>\n",
       "      <td>Главные новости1998Сцены из жизни поисковой ма...</td>\n",
       "      <td>5</td>\n",
       "    </tr>\n",
       "    <tr>\n",
       "      <th>...</th>\n",
       "      <td>...</td>\n",
       "      <td>...</td>\n",
       "      <td>...</td>\n",
       "      <td>...</td>\n",
       "    </tr>\n",
       "    <tr>\n",
       "      <th>820</th>\n",
       "      <td>Яндекс Лавку возглавит Вадим Петров</td>\n",
       "      <td>https://yandex.ru/company/press_releases/2023/...</td>\n",
       "      <td>Главные новости2023Яндекс Лавку возглавит Вади...</td>\n",
       "      <td>5</td>\n",
       "    </tr>\n",
       "    <tr>\n",
       "      <th>821</th>\n",
       "      <td>Дмитрий Масюк возглавит бизнес-группу Поиска и...</td>\n",
       "      <td>https://yandex.ru/company/press_releases/2023/...</td>\n",
       "      <td>Главные новости2023Дмитрий Масюк возглавит биз...</td>\n",
       "      <td>5</td>\n",
       "    </tr>\n",
       "    <tr>\n",
       "      <th>822</th>\n",
       "      <td>Публикация кода: Яндекс раскрывает первые резу...</td>\n",
       "      <td>https://yandex.ru/company/press_releases/2023/...</td>\n",
       "      <td>Главные новости2023Публикация кода: Яндекс рас...</td>\n",
       "      <td>5</td>\n",
       "    </tr>\n",
       "    <tr>\n",
       "      <th>823</th>\n",
       "      <td>Нейросети Яндекса расшифруют архивные рукописн...</td>\n",
       "      <td>https://yandex.ru/company/press_releases/2023/...</td>\n",
       "      <td>Главные новости2023Нейросети Яндекса расшифрую...</td>\n",
       "      <td>5</td>\n",
       "    </tr>\n",
       "    <tr>\n",
       "      <th>824</th>\n",
       "      <td>Яндекс Такси запускает новый финансовый сервис...</td>\n",
       "      <td>https://yandex.ru/company/press_releases/2023/...</td>\n",
       "      <td>Главные новости2023Яндекс Такси запускает новы...</td>\n",
       "      <td>5</td>\n",
       "    </tr>\n",
       "  </tbody>\n",
       "</table>\n",
       "<p>825 rows × 4 columns</p>\n",
       "</div>\n",
       "      <button class=\"colab-df-convert\" onclick=\"convertToInteractive('df-0f3e0526-d86b-4209-b190-39ae2b8ba2d9')\"\n",
       "              title=\"Convert this dataframe to an interactive table.\"\n",
       "              style=\"display:none;\">\n",
       "        \n",
       "  <svg xmlns=\"http://www.w3.org/2000/svg\" height=\"24px\"viewBox=\"0 0 24 24\"\n",
       "       width=\"24px\">\n",
       "    <path d=\"M0 0h24v24H0V0z\" fill=\"none\"/>\n",
       "    <path d=\"M18.56 5.44l.94 2.06.94-2.06 2.06-.94-2.06-.94-.94-2.06-.94 2.06-2.06.94zm-11 1L8.5 8.5l.94-2.06 2.06-.94-2.06-.94L8.5 2.5l-.94 2.06-2.06.94zm10 10l.94 2.06.94-2.06 2.06-.94-2.06-.94-.94-2.06-.94 2.06-2.06.94z\"/><path d=\"M17.41 7.96l-1.37-1.37c-.4-.4-.92-.59-1.43-.59-.52 0-1.04.2-1.43.59L10.3 9.45l-7.72 7.72c-.78.78-.78 2.05 0 2.83L4 21.41c.39.39.9.59 1.41.59.51 0 1.02-.2 1.41-.59l7.78-7.78 2.81-2.81c.8-.78.8-2.07 0-2.86zM5.41 20L4 18.59l7.72-7.72 1.47 1.35L5.41 20z\"/>\n",
       "  </svg>\n",
       "      </button>\n",
       "      \n",
       "  <style>\n",
       "    .colab-df-container {\n",
       "      display:flex;\n",
       "      flex-wrap:wrap;\n",
       "      gap: 12px;\n",
       "    }\n",
       "\n",
       "    .colab-df-convert {\n",
       "      background-color: #E8F0FE;\n",
       "      border: none;\n",
       "      border-radius: 50%;\n",
       "      cursor: pointer;\n",
       "      display: none;\n",
       "      fill: #1967D2;\n",
       "      height: 32px;\n",
       "      padding: 0 0 0 0;\n",
       "      width: 32px;\n",
       "    }\n",
       "\n",
       "    .colab-df-convert:hover {\n",
       "      background-color: #E2EBFA;\n",
       "      box-shadow: 0px 1px 2px rgba(60, 64, 67, 0.3), 0px 1px 3px 1px rgba(60, 64, 67, 0.15);\n",
       "      fill: #174EA6;\n",
       "    }\n",
       "\n",
       "    [theme=dark] .colab-df-convert {\n",
       "      background-color: #3B4455;\n",
       "      fill: #D2E3FC;\n",
       "    }\n",
       "\n",
       "    [theme=dark] .colab-df-convert:hover {\n",
       "      background-color: #434B5C;\n",
       "      box-shadow: 0px 1px 3px 1px rgba(0, 0, 0, 0.15);\n",
       "      filter: drop-shadow(0px 1px 2px rgba(0, 0, 0, 0.3));\n",
       "      fill: #FFFFFF;\n",
       "    }\n",
       "  </style>\n",
       "\n",
       "      <script>\n",
       "        const buttonEl =\n",
       "          document.querySelector('#df-0f3e0526-d86b-4209-b190-39ae2b8ba2d9 button.colab-df-convert');\n",
       "        buttonEl.style.display =\n",
       "          google.colab.kernel.accessAllowed ? 'block' : 'none';\n",
       "\n",
       "        async function convertToInteractive(key) {\n",
       "          const element = document.querySelector('#df-0f3e0526-d86b-4209-b190-39ae2b8ba2d9');\n",
       "          const dataTable =\n",
       "            await google.colab.kernel.invokeFunction('convertToInteractive',\n",
       "                                                     [key], {});\n",
       "          if (!dataTable) return;\n",
       "\n",
       "          const docLinkHtml = 'Like what you see? Visit the ' +\n",
       "            '<a target=\"_blank\" href=https://colab.research.google.com/notebooks/data_table.ipynb>data table notebook</a>'\n",
       "            + ' to learn more about interactive tables.';\n",
       "          element.innerHTML = '';\n",
       "          dataTable['output_type'] = 'display_data';\n",
       "          await google.colab.output.renderOutput(dataTable, element);\n",
       "          const docLink = document.createElement('div');\n",
       "          docLink.innerHTML = docLinkHtml;\n",
       "          element.appendChild(docLink);\n",
       "        }\n",
       "      </script>\n",
       "    </div>\n",
       "  </div>\n",
       "  "
      ],
      "text/plain": [
       "                                                 Title  \\\n",
       "0    Yandex.ru переехал в новое место (МТУ-Информ)....   \n",
       "1    Yandex.ru становится стандартным средством пои...   \n",
       "2    Новое лицо yandex.ru. Естественно-языковый зап...   \n",
       "3    Ранжирование результата поиска. Открыт пользов...   \n",
       "4    В «Академическом поиске» появилась возможность...   \n",
       "..                                                 ...   \n",
       "820                Яндекс Лавку возглавит Вадим Петров   \n",
       "821  Дмитрий Масюк возглавит бизнес-группу Поиска и...   \n",
       "822  Публикация кода: Яндекс раскрывает первые резу...   \n",
       "823  Нейросети Яндекса расшифруют архивные рукописн...   \n",
       "824  Яндекс Такси запускает новый финансовый сервис...   \n",
       "\n",
       "                                                  Link  \\\n",
       "0    https://yandex.ru/company/press_releases/1997/...   \n",
       "1    https://yandex.ru/company/press_releases/1997/...   \n",
       "2    https://yandex.ru/company/press_releases/1997/...   \n",
       "3    https://yandex.ru/company/press_releases/1997/...   \n",
       "4    https://yandex.ru/company/press_releases/1998/...   \n",
       "..                                                 ...   \n",
       "820  https://yandex.ru/company/press_releases/2023/...   \n",
       "821  https://yandex.ru/company/press_releases/2023/...   \n",
       "822  https://yandex.ru/company/press_releases/2023/...   \n",
       "823  https://yandex.ru/company/press_releases/2023/...   \n",
       "824  https://yandex.ru/company/press_releases/2023/...   \n",
       "\n",
       "                                                  Text Category  \n",
       "0    Главные новости1997Yandex.ru становится станда...        5  \n",
       "1    Главные новости1997Новое лицо yandex.ru. Естес...        5  \n",
       "2    Главные новости1997Web - гуманизм или чернуха?...        5  \n",
       "3    Главные новости1997Запущена новая поисковая ма...        5  \n",
       "4    Главные новости1998Сцены из жизни поисковой ма...        5  \n",
       "..                                                 ...      ...  \n",
       "820  Главные новости2023Яндекс Лавку возглавит Вади...        5  \n",
       "821  Главные новости2023Дмитрий Масюк возглавит биз...        5  \n",
       "822  Главные новости2023Публикация кода: Яндекс рас...        5  \n",
       "823  Главные новости2023Нейросети Яндекса расшифрую...        5  \n",
       "824  Главные новости2023Яндекс Такси запускает новы...        5  \n",
       "\n",
       "[825 rows x 4 columns]"
      ]
     },
     "execution_count": 41,
     "metadata": {},
     "output_type": "execute_result"
    }
   ],
   "source": [
    "for x in range(len(morph_data)):\n",
    "    c = [0]*5\n",
    "    for j in morph_data[x]:\n",
    "        if j in development: \n",
    "            c[0] += 1\n",
    "        elif j in finance:\n",
    "            c[1] += 1\n",
    "        elif j in structure:\n",
    "            c[2] += 1\n",
    "        elif j in policy:\n",
    "            c[3] += 1\n",
    "        elif j in other:\n",
    "            c[4] += 1\n",
    "    if max(c) > 3:\n",
    "        max_ind = c.index(max(c))\n",
    "        data_yandex['Category'][x] = max_ind+1\n",
    "    else:\n",
    "        data_yandex['Category'][x] = 5\n",
    "data_yandex"
   ]
  },
  {
   "cell_type": "code",
   "execution_count": null,
   "id": "69da5642",
   "metadata": {
    "id": "69da5642"
   },
   "outputs": [],
   "source": [
    "#data_yandex.to_csv(r'/Users/liza/Desktop/Учеба/Курсовая/class_yandex.csv', index=False)"
   ]
  },
  {
   "cell_type": "code",
   "execution_count": 59,
   "id": "cc8c3166",
   "metadata": {
    "colab": {
     "base_uri": "https://localhost:8080/",
     "height": 419
    },
    "id": "cc8c3166",
    "outputId": "07f68da0-686d-45a0-9a39-d60a5fb9780b"
   },
   "outputs": [
    {
     "data": {
      "text/html": [
       "<div>\n",
       "<style scoped>\n",
       "    .dataframe tbody tr th:only-of-type {\n",
       "        vertical-align: middle;\n",
       "    }\n",
       "\n",
       "    .dataframe tbody tr th {\n",
       "        vertical-align: top;\n",
       "    }\n",
       "\n",
       "    .dataframe thead th {\n",
       "        text-align: right;\n",
       "    }\n",
       "</style>\n",
       "<table border=\"1\" class=\"dataframe\">\n",
       "  <thead>\n",
       "    <tr style=\"text-align: right;\">\n",
       "      <th></th>\n",
       "      <th>Title</th>\n",
       "      <th>Link</th>\n",
       "      <th>Text</th>\n",
       "      <th>Category</th>\n",
       "    </tr>\n",
       "  </thead>\n",
       "  <tbody>\n",
       "    <tr>\n",
       "      <th>0</th>\n",
       "      <td>Yandex.ru переехал в новое место (МТУ-Информ)....</td>\n",
       "      <td>https://yandex.ru/company/press_releases/1997/...</td>\n",
       "      <td>Главные новости1997Yandex.ru становится станда...</td>\n",
       "      <td>1</td>\n",
       "    </tr>\n",
       "    <tr>\n",
       "      <th>1</th>\n",
       "      <td>Yandex.ru становится стандартным средством пои...</td>\n",
       "      <td>https://yandex.ru/company/press_releases/1997/...</td>\n",
       "      <td>Главные новости1997Новое лицо yandex.ru. Естес...</td>\n",
       "      <td>1</td>\n",
       "    </tr>\n",
       "    <tr>\n",
       "      <th>2</th>\n",
       "      <td>Новое лицо yandex.ru. Естественно-языковый зап...</td>\n",
       "      <td>https://yandex.ru/company/press_releases/1997/...</td>\n",
       "      <td>Главные новости1997Web - гуманизм или чернуха?...</td>\n",
       "      <td>5</td>\n",
       "    </tr>\n",
       "    <tr>\n",
       "      <th>3</th>\n",
       "      <td>Ранжирование результата поиска. Открыт пользов...</td>\n",
       "      <td>https://yandex.ru/company/press_releases/1997/...</td>\n",
       "      <td>Главные новости1997Запущена новая поисковая ма...</td>\n",
       "      <td>1</td>\n",
       "    </tr>\n",
       "    <tr>\n",
       "      <th>4</th>\n",
       "      <td>В «Академическом поиске» появилась возможность...</td>\n",
       "      <td>https://yandex.ru/company/press_releases/1998/...</td>\n",
       "      <td>Главные новости1998Сцены из жизни поисковой ма...</td>\n",
       "      <td>1</td>\n",
       "    </tr>\n",
       "    <tr>\n",
       "      <th>...</th>\n",
       "      <td>...</td>\n",
       "      <td>...</td>\n",
       "      <td>...</td>\n",
       "      <td>...</td>\n",
       "    </tr>\n",
       "    <tr>\n",
       "      <th>820</th>\n",
       "      <td>Яндекс Лавку возглавит Вадим Петров</td>\n",
       "      <td>https://yandex.ru/company/press_releases/2023/...</td>\n",
       "      <td>Главные новости2023Яндекс Лавку возглавит Вади...</td>\n",
       "      <td>3</td>\n",
       "    </tr>\n",
       "    <tr>\n",
       "      <th>821</th>\n",
       "      <td>Дмитрий Масюк возглавит бизнес-группу Поиска и...</td>\n",
       "      <td>https://yandex.ru/company/press_releases/2023/...</td>\n",
       "      <td>Главные новости2023Дмитрий Масюк возглавит биз...</td>\n",
       "      <td>3</td>\n",
       "    </tr>\n",
       "    <tr>\n",
       "      <th>822</th>\n",
       "      <td>Публикация кода: Яндекс раскрывает первые резу...</td>\n",
       "      <td>https://yandex.ru/company/press_releases/2023/...</td>\n",
       "      <td>Главные новости2023Публикация кода: Яндекс рас...</td>\n",
       "      <td>1</td>\n",
       "    </tr>\n",
       "    <tr>\n",
       "      <th>823</th>\n",
       "      <td>Нейросети Яндекса расшифруют архивные рукописн...</td>\n",
       "      <td>https://yandex.ru/company/press_releases/2023/...</td>\n",
       "      <td>Главные новости2023Нейросети Яндекса расшифрую...</td>\n",
       "      <td>1</td>\n",
       "    </tr>\n",
       "    <tr>\n",
       "      <th>824</th>\n",
       "      <td>Яндекс Такси запускает новый финансовый сервис...</td>\n",
       "      <td>https://yandex.ru/company/press_releases/2023/...</td>\n",
       "      <td>Главные новости2023Яндекс Такси запускает новы...</td>\n",
       "      <td>1</td>\n",
       "    </tr>\n",
       "  </tbody>\n",
       "</table>\n",
       "<p>825 rows × 4 columns</p>\n",
       "</div>"
      ],
      "text/plain": [
       "                                                 Title  \\\n",
       "0    Yandex.ru переехал в новое место (МТУ-Информ)....   \n",
       "1    Yandex.ru становится стандартным средством пои...   \n",
       "2    Новое лицо yandex.ru. Естественно-языковый зап...   \n",
       "3    Ранжирование результата поиска. Открыт пользов...   \n",
       "4    В «Академическом поиске» появилась возможность...   \n",
       "..                                                 ...   \n",
       "820                Яндекс Лавку возглавит Вадим Петров   \n",
       "821  Дмитрий Масюк возглавит бизнес-группу Поиска и...   \n",
       "822  Публикация кода: Яндекс раскрывает первые резу...   \n",
       "823  Нейросети Яндекса расшифруют архивные рукописн...   \n",
       "824  Яндекс Такси запускает новый финансовый сервис...   \n",
       "\n",
       "                                                  Link  \\\n",
       "0    https://yandex.ru/company/press_releases/1997/...   \n",
       "1    https://yandex.ru/company/press_releases/1997/...   \n",
       "2    https://yandex.ru/company/press_releases/1997/...   \n",
       "3    https://yandex.ru/company/press_releases/1997/...   \n",
       "4    https://yandex.ru/company/press_releases/1998/...   \n",
       "..                                                 ...   \n",
       "820  https://yandex.ru/company/press_releases/2023/...   \n",
       "821  https://yandex.ru/company/press_releases/2023/...   \n",
       "822  https://yandex.ru/company/press_releases/2023/...   \n",
       "823  https://yandex.ru/company/press_releases/2023/...   \n",
       "824  https://yandex.ru/company/press_releases/2023/...   \n",
       "\n",
       "                                                  Text  Category  \n",
       "0    Главные новости1997Yandex.ru становится станда...         1  \n",
       "1    Главные новости1997Новое лицо yandex.ru. Естес...         1  \n",
       "2    Главные новости1997Web - гуманизм или чернуха?...         5  \n",
       "3    Главные новости1997Запущена новая поисковая ма...         1  \n",
       "4    Главные новости1998Сцены из жизни поисковой ма...         1  \n",
       "..                                                 ...       ...  \n",
       "820  Главные новости2023Яндекс Лавку возглавит Вади...         3  \n",
       "821  Главные новости2023Дмитрий Масюк возглавит биз...         3  \n",
       "822  Главные новости2023Публикация кода: Яндекс рас...         1  \n",
       "823  Главные новости2023Нейросети Яндекса расшифрую...         1  \n",
       "824  Главные новости2023Яндекс Такси запускает новы...         1  \n",
       "\n",
       "[825 rows x 4 columns]"
      ]
     },
     "execution_count": 59,
     "metadata": {},
     "output_type": "execute_result"
    }
   ],
   "source": [
    "yandex = pd.read_csv('class_yandex.csv') \n",
    "yandex"
   ]
  },
  {
   "cell_type": "markdown",
   "id": "31c293f5",
   "metadata": {
    "id": "31c293f5"
   },
   "source": [
    "### соотношение классов в датасете следующее: \n",
    "### 1 - 525 новостей, 2 - 52 новости, 3 - 97 новостей,  4 - 8 новостей,  5 - 143 новости"
   ]
  },
  {
   "cell_type": "markdown",
   "id": "acd54052",
   "metadata": {
    "id": "acd54052"
   },
   "source": [
    "## Векторизация текстовых данных \n"
   ]
  },
  {
   "cell_type": "markdown",
   "id": "9215182e",
   "metadata": {
    "id": "9215182e"
   },
   "source": [
    "Разделяем набор данных на train и test 80–20"
   ]
  },
  {
   "cell_type": "code",
   "execution_count": 15,
   "id": "535ba2fb",
   "metadata": {
    "colab": {
     "base_uri": "https://localhost:8080/"
    },
    "id": "535ba2fb",
    "outputId": "73b47dc4-76fa-4f58-f727-5cd7f5e22125"
   },
   "outputs": [
    {
     "name": "stdout",
     "output_type": "stream",
     "text": [
      "Train data: 171    деньга год спустяинтернуть 25 июль 2003 год на...\n",
      "684    представить проект новый штаб квартирыинтернут...\n",
      "179    открыть доступ секретный разработка область по...\n",
      "719    смочь использовать яндекс карта навигатор appl...\n",
      "303    laboratories силиконовый долинеинтернет 20 июн...\n",
      "                             ...                        \n",
      "502    открывать интернет гипермаркет одеждыинтернуть...\n",
      "500    объявлять финансовый результат iii квартал 201...\n",
      "799    объявлять финансовый результат iv квартал 2021...\n",
      "335    открывать городаинтернуть 2 декабрь 2009 год я...\n",
      "249    яндекс wifi открыть интерактивный карта хота с...\n",
      "Name: Text, Length: 660, dtype: object [1 1 1 1 3 2 5 1 1 3 2 5 1 1 3 3 1 3 3 1 1 1 1 1 1 1 5 1 1 1 1 5 1 1 1 1 1\n",
      " 1 5 5 1 1 1 1 5 1 3 5 1 1 1 1 1 1 1 1 1 2 1 1 1 1 3 1 1 5 5 1 1 1 1 1 1 1\n",
      " 2 1 1 1 5 5 1 1 3 1 1 1 1 5 5 1 3 3 3 1 1 3 1 1 1 4 1 1 1 3 5 3 1 1 1 5 2\n",
      " 1 1 1 3 5 5 1 5 1 3 1 1 3 1 1 1 1 1 3 1 1 1 1 1 5 2 1 2 1 1 3 1 3 1 1 1 1\n",
      " 1 1 1 1 3 1 1 5 5 5 2 5 5 1 2 3 1 1 1 1 2 1 2 5 1 3 1 3 1 3 5 1 5 1 1 1 5\n",
      " 1 5 2 5 1 2 1 5 1 1 1 5 1 1 1 2 1 1 5 5 1 1 1 1 1 1 1 5 5 5 1 1 1 2 3 1 1\n",
      " 1 5 1 1 3 1 1 2 2 5 2 1 3 5 1 3 1 1 1 1 3 1 1 1 1 1 3 5 4 1 2 1 1 1 1 1 1\n",
      " 3 2 3 2 1 1 1 5 3 1 5 2 1 1 2 1 1 1 5 1 1 1 1 1 1 1 3 1 1 1 1 1 5 1 1 1 1\n",
      " 1 1 1 1 3 1 2 5 1 1 1 1 5 1 1 1 1 1 1 3 5 5 3 1 1 5 3 1 1 5 5 5 1 1 1 1 1\n",
      " 1 3 5 1 1 1 1 2 5 1 1 5 1 1 4 1 1 1 1 1 3 5 5 1 1 1 1 1 2 1 1 5 1 2 1 1 1\n",
      " 1 3 5 1 1 5 1 5 4 1 2 1 3 3 3 5 3 5 1 1 3 1 1 5 5 3 2 1 1 1 5 1 1 5 1 3 1\n",
      " 1 5 1 5 5 5 2 1 5 3 1 1 2 3 1 2 1 5 1 1 1 5 5 5 1 3 5 1 2 1 1 1 1 1 1 2 1\n",
      " 1 3 5 2 1 1 1 1 5 1 3 1 1 1 1 1 3 1 1 1 5 1 1 5 1 3 1 1 1 5 1 3 1 1 1 1 1\n",
      " 5 1 1 1 5 1 1 1 3 2 1 1 1 1 3 1 1 5 1 1 3 1 1 1 1 1 1 1 1 1 1 1 1 1 5 3 1\n",
      " 1 5 5 2 1 1 1 1 1 1 3 1 1 1 1 5 5 5 1 1 3 5 1 1 1 5 1 1 1 1 1 5 1 3 1 1 5\n",
      " 1 1 2 1 1 3 1 5 1 1 1 1 1 1 1 1 1 1 1 1 1 1 1 5 1 1 1 3 1 1 1 1 1 1 5 1 3\n",
      " 1 1 1 3 3 1 1 1 1 5 1 1 1 3 1 4 5 1 3 1 1 1 1 1 1 1 2 1 3 3 1 1 2 1 1 5 3\n",
      " 1 3 5 1 5 1 5 1 4 5 1 1 5 5 5 3 1 5 1 1 5 5 1 1 3 1 1 2 2 1 5]\n",
      "Test data: 596    объявлять финансовый результат ii квартал 2016...\n",
      "389    пробка навигационный программахинтернуть 19 ян...\n",
      "530    фотка стать находить снимок лицаинтернет 24 ян...\n",
      "508    ида так геологоразведка интернет 22 июнь 2012 ...\n",
      "302    свободный дорога десятка городовинтернуть 26 и...\n",
      "                             ...                        \n",
      "72     новый год новый евро интернет 28 декабрь 2001 ...\n",
      "702    яндекс признать самый мощный россиить рейтинг ...\n",
      "212    слабовидящихинтернуть 29 апрель 2004 запустить...\n",
      "705    majid al futtaim договориться запустить достав...\n",
      "598    выпустить браузер лента рекомендация дзенинтер...\n",
      "Name: Text, Length: 165, dtype: object [2 5 1 1 1 5 1 1 1 1 1 1 1 1 1 1 5 5 1 1 1 1 1 1 5 1 1 1 1 1 1 1 1 1 1 5 2\n",
      " 3 1 3 1 1 1 1 3 5 5 4 2 1 1 5 1 5 1 1 3 1 3 5 3 3 2 2 5 5 2 4 1 3 2 1 5 1\n",
      " 5 5 1 5 1 1 1 1 1 3 1 1 1 1 1 1 1 3 1 1 1 1 1 5 3 1 1 1 5 1 3 1 3 3 1 1 5\n",
      " 1 1 1 2 1 1 3 2 1 1 3 3 1 1 1 1 1 5 1 1 1 1 5 1 1 1 5 1 1 5 5 1 1 1 1 2 5\n",
      " 1 1 1 1 1 1 1 1 5 3 5 3 1 5 1 1 1]\n"
     ]
    }
   ],
   "source": [
    "data = yandex[['Text', 'Category']].copy()\n",
    "y = data['Category'].values\n",
    "data.drop(['Category'], axis=1, inplace=True)\n",
    "\n",
    "X_train, X_test, y_train, y_test = train_test_split(morph_data, y, test_size=0.2, stratify=y) \n",
    "print(\"Train data:\", X_train, y_train) \n",
    "print(\"Test data:\" , X_test, y_test)"
   ]
  },
  {
   "cell_type": "markdown",
   "id": "5e07f4a3",
   "metadata": {
    "id": "5e07f4a3"
   },
   "source": [
    "Векторизация данных необходима для того, чтобы ускорить работу алгоритма\n",
    " \n",
    "Новости, представленные в датасете, имеют разную длину \n",
    "\n",
    "Преобразовав текст в цифры, мы cможем представить новость конечной длиной вектора\n",
    "\n",
    "Таким образом, длина вектора будет равна для каждой новости, независимо от длины текста"
   ]
  },
  {
   "cell_type": "markdown",
   "id": "eb939dd4",
   "metadata": {
    "id": "eb939dd4"
   },
   "source": [
    "### BOW  vectorizer"
   ]
  },
  {
   "cell_type": "markdown",
   "id": "4024925c",
   "metadata": {
    "id": "4024925c"
   },
   "source": [
    "Данный метод разделяет текст на отдельные слова или группы слов для большей смысловой нагрузки.\n",
    "\n",
    "У нашего CountVectorizer есть аттрибут ngram_range, который позволяет выделять не тольку одно слово, но и сочетания слов"
   ]
  },
  {
   "cell_type": "code",
   "execution_count": 133,
   "id": "8ad7a4f1",
   "metadata": {
    "id": "8ad7a4f1"
   },
   "outputs": [],
   "source": [
    "# bag of words\n",
    "vect = feature_extraction.text.CountVectorizer(min_df=10)\n",
    "X_train_b = vect.fit_transform(X_train)\n",
    "X_test_b = vect.transform(X_test)"
   ]
  },
  {
   "cell_type": "code",
   "execution_count": 17,
   "id": "81a0b603",
   "metadata": {
    "colab": {
     "base_uri": "https://localhost:8080/"
    },
    "id": "81a0b603",
    "outputId": "988c833e-2c7d-4e6e-a9e9-b4a12249910a"
   },
   "outputs": [
    {
     "name": "stdout",
     "output_type": "stream",
     "text": [
      "[[  0   0   0 ...   7   0   0]\n",
      " [  0   0   0 ...  14   0   0]\n",
      " [  0   0   0 ...   5   0   0]\n",
      " ...\n",
      " [  0   0   1 ... 107   0   0]\n",
      " [  0   0   0 ...   5   0   0]\n",
      " [  0   0   0 ...  11   0   0]]\n"
     ]
    }
   ],
   "source": [
    "print(X_train_b.toarray()) # векторы для обучающейся выборки"
   ]
  },
  {
   "cell_type": "markdown",
   "id": "9e8b82b1",
   "metadata": {
    "id": "9e8b82b1"
   },
   "source": [
    "### TF-IDF  vectorizer"
   ]
  },
  {
   "cell_type": "markdown",
   "id": "eadb47ae",
   "metadata": {
    "id": "eadb47ae"
   },
   "source": [
    "Term Frequency Inverse Document Frequency -  отношение числа вхождений конкретного слова к общему набору слов в документе"
   ]
  },
  {
   "cell_type": "markdown",
   "id": "984a28e0",
   "metadata": {
    "id": "984a28e0"
   },
   "source": [
    "Данный вектиоризатор вляется более эффективным алгоритмом чем \"мешок слов\""
   ]
  },
  {
   "cell_type": "code",
   "execution_count": 134,
   "id": "b4044f14",
   "metadata": {
    "id": "b4044f14"
   },
   "outputs": [],
   "source": [
    "vectorizer = feature_extraction.text.TfidfVectorizer(min_df=10)\n",
    "X_train_tfidf = vectorizer.fit_transform(X_train)\n",
    "X_test_tfidf = vectorizer.transform(X_test)"
   ]
  },
  {
   "cell_type": "markdown",
   "id": "tE7T9Ltb_mfG",
   "metadata": {
    "id": "tE7T9Ltb_mfG"
   },
   "source": [
    "### Word2Vec "
   ]
  },
  {
   "cell_type": "code",
   "execution_count": 130,
   "id": "b58e35i9_mA5",
   "metadata": {
    "colab": {
     "base_uri": "https://localhost:8080/"
    },
    "id": "b58e35i9_mA5",
    "outputId": "797a29ae-3281-44e3-bec0-e27a14b03f71"
   },
   "outputs": [
    {
     "name": "stderr",
     "output_type": "stream",
     "text": [
      "WARNING:gensim.models.word2vec:Each 'sentences' item should be a list of words (usually unicode strings). First item here is instead plain <class 'str'>.\n"
     ]
    }
   ],
   "source": [
    "model = Word2Vec(sentences=morph_data, \n",
    "                               min_count=5, \n",
    "                               vector_size=100)\n",
    "model.save('mymodel')   \n",
    "model = KeyedVectors.load('mymodel')\n",
    "model.init_sims(replace=True)"
   ]
  },
  {
   "cell_type": "code",
   "execution_count": 20,
   "id": "gMleUOr__txZ",
   "metadata": {
    "id": "gMleUOr__txZ"
   },
   "outputs": [],
   "source": [
    "def word_averaging(model, words):\n",
    "    all_words, mean = set(), []\n",
    "    for word in words:\n",
    "        if isinstance(word, np.ndarray):\n",
    "          mean.append(word)\n",
    "        elif word in list(model.wv.index_to_key): #model.wv.index_to_key\n",
    "          mean.append(model.wv.key_to_index[word])\n",
    "          all_words.add(model.wv.key_to_index[word])\n",
    "\n",
    "\n",
    "    mean = matutils.unitvec(np.array(mean)).mean(axis=0).astype(np.float32)\n",
    "    return mean\n",
    "\n",
    "def word_averaging_list(model, text_list):\n",
    "    return np.vstack([word_averaging(model, review) for review in text_list])"
   ]
  },
  {
   "cell_type": "code",
   "execution_count": 132,
   "id": "3hACEQA7_t3v",
   "metadata": {
    "id": "3hACEQA7_t3v"
   },
   "outputs": [],
   "source": [
    "X_train_w_a = word_averaging_list(model, X_train)\n",
    "X_test_w_a = word_averaging_list(model, X_test)"
   ]
  },
  {
   "cell_type": "markdown",
   "id": "8efc1b8d",
   "metadata": {
    "id": "8efc1b8d"
   },
   "source": [
    "# Создание классификаторов ML"
   ]
  },
  {
   "cell_type": "code",
   "execution_count": 28,
   "id": "Hcm1ILWbf7IN",
   "metadata": {
    "id": "Hcm1ILWbf7IN"
   },
   "outputs": [],
   "source": [
    "table = pd.DataFrame(columns=['Название модели', 'Точность'])"
   ]
  },
  {
   "cell_type": "markdown",
   "id": "f270eab2",
   "metadata": {
    "id": "f270eab2"
   },
   "source": [
    "### Метод опорных векторов"
   ]
  },
  {
   "cell_type": "code",
   "execution_count": 26,
   "id": "2213b473",
   "metadata": {
    "colab": {
     "base_uri": "https://localhost:8080/"
    },
    "id": "2213b473",
    "outputId": "e60eb2a0-4982-4a10-fd16-95c5810d336c"
   },
   "outputs": [
    {
     "name": "stdout",
     "output_type": "stream",
     "text": [
      "Test Accuracy: 0.8363636363636363\n",
      "CPU times: user 692 ms, sys: 954 µs, total: 693 ms\n",
      "Wall time: 722 ms\n"
     ]
    }
   ],
   "source": [
    "%%time\n",
    "clf = svm.SVC(kernel='linear') # с линейным ядром дает лучший результат для TFIDF\n",
    "clf.fit(X_train_tfidf, y_train)\n",
    "y_pred = clf.predict(X_test_tfidf)\n",
    "print('Точность предсказания:', accuracy_score(y_test, y_pred))"
   ]
  },
  {
   "cell_type": "code",
   "execution_count": 32,
   "id": "n3MrQCrwT2Zr",
   "metadata": {
    "colab": {
     "base_uri": "https://localhost:8080/"
    },
    "id": "n3MrQCrwT2Zr",
    "outputId": "51a38c30-3efb-49e3-a78d-a7c5bc0912ff"
   },
   "outputs": [
    {
     "name": "stdout",
     "output_type": "stream",
     "text": [
      "Test Accuracy: 0.7878787878787878\n",
      "CPU times: user 477 ms, sys: 3 ms, total: 480 ms\n",
      "Wall time: 484 ms\n"
     ]
    }
   ],
   "source": [
    "%%time\n",
    "clf = svm.SVC(kernel='linear')\n",
    "clf.fit(X_train_b, y_train)\n",
    "y_pred = clf.predict(X_test_b)\n",
    "print('Точность предсказания:', accuracy_score(y_test, y_pred))"
   ]
  },
  {
   "cell_type": "code",
   "execution_count": 33,
   "id": "qMwGJuy2E7dG",
   "metadata": {
    "colab": {
     "base_uri": "https://localhost:8080/"
    },
    "id": "qMwGJuy2E7dG",
    "outputId": "c499872c-2825-4266-874d-3c20c336524a"
   },
   "outputs": [
    {
     "name": "stdout",
     "output_type": "stream",
     "text": [
      "Test Accuracy: 0.6363636363636364\n",
      "CPU times: user 14.1 ms, sys: 5 µs, total: 14.1 ms\n",
      "Wall time: 15 ms\n"
     ]
    }
   ],
   "source": [
    "%%time\n",
    "clf = svm.SVC(kernel='linear')\n",
    "clf.fit(X_train_w_a, y_train)\n",
    "y_pred = clf.predict(X_test_w_a)\n",
    "print('Точность предсказания:', accuracy_score(y_test, y_pred))"
   ]
  },
  {
   "cell_type": "code",
   "execution_count": 34,
   "id": "tACBsEkbT2Zr",
   "metadata": {
    "colab": {
     "base_uri": "https://localhost:8080/"
    },
    "id": "tACBsEkbT2Zr",
    "outputId": "685fc077-56c5-4d9d-c734-9702093f060e"
   },
   "outputs": [
    {
     "name": "stdout",
     "output_type": "stream",
     "text": [
      "Test Accuracy: 0.806060606060606\n",
      "CPU times: user 1.09 s, sys: 1.02 ms, total: 1.09 s\n",
      "Wall time: 1.1 s\n"
     ]
    }
   ],
   "source": [
    "%%time\n",
    "clf = svm.SVC(kernel='rbf')\n",
    "clf.fit(X_train_tfidf, y_train)\n",
    "y_pred = clf.predict(X_test_tfidf)\n",
    "print('Точность предсказания:', accuracy_score(y_test, y_pred))"
   ]
  },
  {
   "cell_type": "code",
   "execution_count": 55,
   "id": "p9jRni9LE8d4",
   "metadata": {
    "colab": {
     "base_uri": "https://localhost:8080/"
    },
    "id": "p9jRni9LE8d4",
    "outputId": "aa07336e-a7d4-4bc7-8296-4bf38f9205d3"
   },
   "outputs": [
    {
     "name": "stdout",
     "output_type": "stream",
     "text": [
      "Test Accuracy: 0.6303030303030303\n",
      "CPU times: user 21.7 ms, sys: 983 µs, total: 22.7 ms\n",
      "Wall time: 23.4 ms\n"
     ]
    }
   ],
   "source": [
    "%%time\n",
    "clf = svm.SVC(kernel='rbf')\n",
    "clf.fit(X_train_w_a, y_train)\n",
    "y_pred = clf.predict(X_test_w_a)\n",
    "print('Точность предсказания:', accuracy_score(y_test, y_pred))"
   ]
  },
  {
   "cell_type": "code",
   "execution_count": 56,
   "id": "FxGk-RiXT2Zs",
   "metadata": {
    "colab": {
     "base_uri": "https://localhost:8080/"
    },
    "id": "FxGk-RiXT2Zs",
    "outputId": "edc7e67a-5e6d-448f-e77a-ef90bf0c2c83"
   },
   "outputs": [
    {
     "name": "stdout",
     "output_type": "stream",
     "text": [
      "Test Accuracy: 0.6848484848484848\n",
      "CPU times: user 625 ms, sys: 931 µs, total: 626 ms\n",
      "Wall time: 631 ms\n"
     ]
    }
   ],
   "source": [
    "%%time\n",
    "clf = svm.SVC(kernel='rbf')\n",
    "clf.fit(X_train_b, y_train)\n",
    "y_pred = clf.predict(X_test_b)\n",
    "print('Точность предсказания:', accuracy_score(y_test, y_pred))"
   ]
  },
  {
   "cell_type": "code",
   "execution_count": 29,
   "id": "oH9CqJ41x2mU",
   "metadata": {
    "id": "oH9CqJ41x2mU"
   },
   "outputs": [],
   "source": [
    "table.loc[1] = ['Метод опорных векторов с линейным ядром для TF-IDF', accuracy_score(y_test, y_pred)]"
   ]
  },
  {
   "cell_type": "code",
   "execution_count": 35,
   "id": "yNVL1n41x2rf",
   "metadata": {
    "id": "yNVL1n41x2rf"
   },
   "outputs": [],
   "source": [
    "table.loc[0] = ['Метод опорных векторов с ядром rbf для TF-IDF', accuracy_score(y_test, y_pred)]"
   ]
  },
  {
   "cell_type": "code",
   "execution_count": 31,
   "id": "sEFaAIwnyumD",
   "metadata": {
    "colab": {
     "base_uri": "https://localhost:8080/",
     "height": 522
    },
    "id": "sEFaAIwnyumD",
    "outputId": "605a28f7-7647-44ff-a207-db6c42832792"
   },
   "outputs": [
    {
     "data": {
      "image/png": "[encoded data removed]",
      "text/plain": [
       "<Figure size 800x600 with 2 Axes>"
      ]
     },
     "metadata": {},
     "output_type": "display_data"
    }
   ],
   "source": [
    "conf = confusion_matrix(y_test, y_pred)\n",
    "plt.figure(figsize=(8, 6))\n",
    "sns.heatmap(conf, annot=True, fmt='d') \n",
    "plt.show()"
   ]
  },
  {
   "cell_type": "markdown",
   "id": "FiOv4XS6zhie",
   "metadata": {
    "id": "FiOv4XS6zhie"
   },
   "source": [
    "Получаем, что для 1 класса было предсказано 104 верно из 105, для 2 класса - 10 из 10, для 3 класса - 13 из 19, для 4 класса 0 из 2, для 5 класса - 11 из 29"
   ]
  },
  {
   "cell_type": "code",
   "execution_count": 36,
   "id": "dpJRtE5ryuqf",
   "metadata": {
    "colab": {
     "base_uri": "https://localhost:8080/",
     "height": 522
    },
    "id": "dpJRtE5ryuqf",
    "outputId": "710ca6e2-ae21-408e-c32b-9d691025ca2a"
   },
   "outputs": [
    {
     "data": {
      "image/png": "[encoded data removed]",
      "text/plain": [
       "<Figure size 800x600 with 2 Axes>"
      ]
     },
     "metadata": {},
     "output_type": "display_data"
    }
   ],
   "source": [
    "conf = confusion_matrix (y_test, y_pred)\n",
    "plt.figure(figsize=(8, 6))\n",
    "sns.heatmap(conf, annot=True, fmt='d') \n",
    "plt.show()"
   ]
  },
  {
   "cell_type": "markdown",
   "id": "ZhiR_bzDziOZ",
   "metadata": {
    "id": "ZhiR_bzDziOZ"
   },
   "source": [
    "Получаем, что для 1 класса было предсказано 104 верно из 105, для 2 класса - 10 из 10, для 3 класса - 12 из 19, для 4 класса 0 из 2, для 5 класса - 7 из 29"
   ]
  },
  {
   "cell_type": "markdown",
   "id": "1859cb9a",
   "metadata": {
    "id": "1859cb9a"
   },
   "source": [
    "### Метод ближайших соседей"
   ]
  },
  {
   "cell_type": "code",
   "execution_count": 54,
   "id": "72961fff",
   "metadata": {
    "colab": {
     "base_uri": "https://localhost:8080/"
    },
    "id": "72961fff",
    "outputId": "7a0b62ac-ed42-4a1d-90c3-6ef1b5f4d756"
   },
   "outputs": [
    {
     "name": "stdout",
     "output_type": "stream",
     "text": [
      "Test Accuracy: 0.8121212121212121\n",
      "CPU times: user 2.13 s, sys: 4.19 ms, total: 2.14 s\n",
      "Wall time: 1.59 s\n"
     ]
    }
   ],
   "source": [
    "%%time\n",
    "clf = neighbors.KNeighborsClassifier()\n",
    "clf.fit(X_train_tfidf, y_train)\n",
    "y_pred = clf.predict(X_test_tfidf)\n",
    "print('Точность предсказания:', accuracy_score(y_test, y_pred))"
   ]
  },
  {
   "cell_type": "code",
   "execution_count": 38,
   "id": "HGcqdvxzT2Zu",
   "metadata": {
    "colab": {
     "base_uri": "https://localhost:8080/"
    },
    "id": "HGcqdvxzT2Zu",
    "outputId": "a530225e-86ee-4d49-998f-30bcd3218bbd"
   },
   "outputs": [
    {
     "name": "stdout",
     "output_type": "stream",
     "text": [
      "Test Accuracy: 0.7272727272727273\n",
      "CPU times: user 29.6 ms, sys: 3.97 ms, total: 33.6 ms\n",
      "Wall time: 42.6 ms\n"
     ]
    }
   ],
   "source": [
    "%%time\n",
    "clf = neighbors.KNeighborsClassifier()\n",
    "clf.fit(X_train_b, y_train)\n",
    "y_pred = clf.predict(X_test_b)\n",
    "print('Точность предсказания:', accuracy_score(y_test, y_pred))"
   ]
  },
  {
   "cell_type": "code",
   "execution_count": 39,
   "id": "pGVXeT03GFhk",
   "metadata": {
    "colab": {
     "base_uri": "https://localhost:8080/"
    },
    "id": "pGVXeT03GFhk",
    "outputId": "dce490bc-9c1c-478d-fba5-7d77d2f974dc"
   },
   "outputs": [
    {
     "name": "stdout",
     "output_type": "stream",
     "text": [
      "Test Accuracy: 0.6303030303030303\n",
      "CPU times: user 17.7 ms, sys: 994 µs, total: 18.7 ms\n",
      "Wall time: 19.7 ms\n"
     ]
    }
   ],
   "source": [
    "%%time\n",
    "clf = neighbors.KNeighborsClassifier()\n",
    "clf.fit(X_train_w_a, y_train)\n",
    "y_pred = clf.predict(X_test_w_a)\n",
    "print('Точность предсказания:', accuracy_score(y_test, y_pred))"
   ]
  },
  {
   "cell_type": "code",
   "execution_count": 55,
   "id": "lyL8fQdGEwL3",
   "metadata": {
    "id": "lyL8fQdGEwL3"
   },
   "outputs": [],
   "source": [
    "table.loc[2] = ['Метод ближайших соседей для TF-IDF', accuracy_score(y_test, y_pred)]"
   ]
  },
  {
   "cell_type": "code",
   "execution_count": 42,
   "id": "uVFsAhZiEwRl",
   "metadata": {
    "colab": {
     "base_uri": "https://localhost:8080/",
     "height": 522
    },
    "id": "uVFsAhZiEwRl",
    "outputId": "52b33e05-c04f-4323-c270-2de752b71eb2"
   },
   "outputs": [
    {
     "data": {
      "image/png": "[encoded data removed]",
      "text/plain": [
       "<Figure size 800x600 with 2 Axes>"
      ]
     },
     "metadata": {},
     "output_type": "display_data"
    }
   ],
   "source": [
    "conf = confusion_matrix (y_test, y_pred)\n",
    "plt.figure(figsize=(8, 6))\n",
    "sns.heatmap(conf, annot=True, fmt='d') \n",
    "plt.show()"
   ]
  },
  {
   "cell_type": "markdown",
   "id": "ZtG6NpRqE9h1",
   "metadata": {
    "id": "ZtG6NpRqE9h1"
   },
   "source": [
    "Получаем, что для 1 класса было предсказано 99 верно из 105, для 2 класса - 10 из 10, для 3 класса - 14 из 19, для 4 класса 0 из 2, для 5 класса - 11 из 29"
   ]
  },
  {
   "cell_type": "markdown",
   "id": "770264f1",
   "metadata": {
    "id": "770264f1"
   },
   "source": [
    "### Многослойный перцептрон"
   ]
  },
  {
   "cell_type": "code",
   "execution_count": 43,
   "id": "70ba36de",
   "metadata": {
    "colab": {
     "base_uri": "https://localhost:8080/"
    },
    "id": "70ba36de",
    "outputId": "0e6a7ac3-6f7a-4ec8-df7a-95572fdf5784"
   },
   "outputs": [
    {
     "name": "stdout",
     "output_type": "stream",
     "text": [
      "Test Accuracy: 0.793939393939394\n",
      "CPU times: user 7.21 s, sys: 5.47 s, total: 12.7 s\n",
      "Wall time: 7.21 s\n"
     ]
    }
   ],
   "source": [
    "%%time\n",
    "clf = neural_network.MLPClassifier()\n",
    "clf.fit(X_train_tfidf, y_train)\n",
    "y_pred = clf.predict(X_test_tfidf)\n",
    "print ('Точность предсказания:', accuracy_score(y_test, y_pred))"
   ]
  },
  {
   "cell_type": "code",
   "execution_count": 56,
   "id": "Yw5_8FsbT2Zv",
   "metadata": {
    "colab": {
     "base_uri": "https://localhost:8080/"
    },
    "id": "Yw5_8FsbT2Zv",
    "outputId": "42354e70-122e-4d90-ddd8-ed4df0a91490"
   },
   "outputs": [
    {
     "name": "stdout",
     "output_type": "stream",
     "text": [
      "Test Accuracy: 0.8181818181818182\n",
      "CPU times: user 4.57 s, sys: 3.07 s, total: 7.64 s\n",
      "Wall time: 7.93 s\n"
     ]
    }
   ],
   "source": [
    "%%time\n",
    "clf = neural_network.MLPClassifier()\n",
    "clf.fit(X_train_b, y_train)\n",
    "y_pred = clf.predict(X_test_b)\n",
    "print ('Точность предсказания:', accuracy_score(y_test, y_pred))"
   ]
  },
  {
   "cell_type": "code",
   "execution_count": 45,
   "id": "m0tfMKOoGgF3",
   "metadata": {
    "colab": {
     "base_uri": "https://localhost:8080/"
    },
    "id": "m0tfMKOoGgF3",
    "outputId": "47abbafd-64ed-44e9-dce3-27952d7398c4"
   },
   "outputs": [
    {
     "name": "stdout",
     "output_type": "stream",
     "text": [
      "Test Accuracy: 0.6363636363636364\n",
      "CPU times: user 617 ms, sys: 345 ms, total: 962 ms\n",
      "Wall time: 1.71 s\n"
     ]
    }
   ],
   "source": [
    "%%time\n",
    "clf = neural_network.MLPClassifier()\n",
    "clf.fit(X_train_w_a, y_train)\n",
    "y_pred = clf.predict(X_test_w_a)\n",
    "print('Точность предсказания:', accuracy_score(y_test, y_pred))"
   ]
  },
  {
   "cell_type": "code",
   "execution_count": 57,
   "id": "Y8v8UvVhyweD",
   "metadata": {
    "id": "Y8v8UvVhyweD"
   },
   "outputs": [],
   "source": [
    "table.loc[3] = ['Многослойный перцептрон для BOW', accuracy_score(y_test, y_pred)]"
   ]
  },
  {
   "cell_type": "code",
   "execution_count": 48,
   "id": "S4tQWccCzPhl",
   "metadata": {
    "colab": {
     "base_uri": "https://localhost:8080/",
     "height": 522
    },
    "id": "S4tQWccCzPhl",
    "outputId": "0a1c9b51-ab11-4b02-e6d6-c0585922483a"
   },
   "outputs": [
    {
     "data": {
      "image/png": "[encoded data removed]",
      "text/plain": [
       "<Figure size 800x600 with 2 Axes>"
      ]
     },
     "metadata": {},
     "output_type": "display_data"
    }
   ],
   "source": [
    "conf = confusion_matrix (y_test, y_pred)\n",
    "plt.figure(figsize=(8, 6))\n",
    "sns.heatmap(conf, annot=True, fmt='d') \n",
    "plt.show()"
   ]
  },
  {
   "cell_type": "markdown",
   "id": "zxLQr1YwzW3g",
   "metadata": {
    "id": "zxLQr1YwzW3g"
   },
   "source": [
    "Получаем, что для 1 класса было предсказано 98 верно из 105, для 2 класса - 10 из 10, для 3 класса - 14 из 19, для 4 класса 0 из 2, для 5 класса - 11 из 29"
   ]
  },
  {
   "cell_type": "markdown",
   "id": "b8285790",
   "metadata": {
    "id": "b8285790"
   },
   "source": [
    "### Дерево решений"
   ]
  },
  {
   "cell_type": "code",
   "execution_count": 49,
   "id": "0d8d4863",
   "metadata": {
    "colab": {
     "base_uri": "https://localhost:8080/"
    },
    "id": "0d8d4863",
    "outputId": "5f37ca63-50e0-42b0-edc2-fa58a2e65f36"
   },
   "outputs": [
    {
     "name": "stdout",
     "output_type": "stream",
     "text": [
      "Test Accuracy: 0.7333333333333333\n",
      "CPU times: user 295 ms, sys: 498 µs, total: 296 ms\n",
      "Wall time: 349 ms\n"
     ]
    }
   ],
   "source": [
    "%%time\n",
    "clf = tree.DecisionTreeClassifier()\n",
    "clf.fit(X_train_tfidf, y_train)\n",
    "y_pred = clf.predict(X_test_tfidf)\n",
    "print ('Точность предсказания:', metrics.accuracy_score(y_test, y_pred))"
   ]
  },
  {
   "cell_type": "code",
   "execution_count": 50,
   "id": "7AqFMoFsT2Zw",
   "metadata": {
    "colab": {
     "base_uri": "https://localhost:8080/"
    },
    "id": "7AqFMoFsT2Zw",
    "outputId": "052c9596-d69d-4db7-a912-7071dd237335"
   },
   "outputs": [
    {
     "name": "stdout",
     "output_type": "stream",
     "text": [
      "Test Accuracy: 0.7151515151515152\n",
      "CPU times: user 130 ms, sys: 88 µs, total: 130 ms\n",
      "Wall time: 130 ms\n"
     ]
    }
   ],
   "source": [
    "%%time\n",
    "clf = tree.DecisionTreeClassifier()\n",
    "clf.fit(X_train_b, y_train)\n",
    "y_pred = clf.predict(X_test_b)\n",
    "print ('Точность предсказания:', accuracy_score(y_test, y_pred))"
   ]
  },
  {
   "cell_type": "code",
   "execution_count": 51,
   "id": "xlFy-4iuGqcx",
   "metadata": {
    "colab": {
     "base_uri": "https://localhost:8080/"
    },
    "id": "xlFy-4iuGqcx",
    "outputId": "32211594-a306-4414-a184-869af425bc52"
   },
   "outputs": [
    {
     "name": "stdout",
     "output_type": "stream",
     "text": [
      "Test Accuracy: 0.5393939393939394\n",
      "CPU times: user 6.66 ms, sys: 0 ns, total: 6.66 ms\n",
      "Wall time: 6.63 ms\n"
     ]
    }
   ],
   "source": [
    "%%time\n",
    "clf = tree.DecisionTreeClassifier()\n",
    "clf.fit(X_train_w_a, y_train)\n",
    "y_pred = clf.predict(X_test_w_a)\n",
    "print('Точность предсказания:', accuracy_score(y_test, y_pred))"
   ]
  },
  {
   "cell_type": "markdown",
   "id": "tprC33o-XbV-",
   "metadata": {
    "id": "tprC33o-XbV-"
   },
   "source": [
    "Дерево решений показывает очень плохой результат"
   ]
  },
  {
   "cell_type": "markdown",
   "id": "99fa7b88",
   "metadata": {
    "id": "99fa7b88"
   },
   "source": [
    "### Наивный байесовский классификатор"
   ]
  },
  {
   "cell_type": "code",
   "execution_count": 52,
   "id": "d2ad1056",
   "metadata": {
    "colab": {
     "base_uri": "https://localhost:8080/"
    },
    "id": "d2ad1056",
    "outputId": "b23bac3b-517d-4bed-a8c8-02eb51d0f82e"
   },
   "outputs": [
    {
     "name": "stdout",
     "output_type": "stream",
     "text": [
      "Test Accuracy: 0.7575757575757576\n",
      "CPU times: user 6.97 ms, sys: 0 ns, total: 6.97 ms\n",
      "Wall time: 8.01 ms\n"
     ]
    }
   ],
   "source": [
    "%%time\n",
    "clf = MultinomialNB()\n",
    "clf.fit(X_train_b, y_train)\n",
    "y_pred = clf.predict(X_test_b) \n",
    "print('Точность предсказания:', accuracy_score(y_test, y_pred))"
   ]
  },
  {
   "cell_type": "code",
   "execution_count": 58,
   "id": "05e6c180",
   "metadata": {
    "colab": {
     "base_uri": "https://localhost:8080/"
    },
    "id": "05e6c180",
    "outputId": "d3b8ad84-6093-4bc0-be9b-a98b866f3150"
   },
   "outputs": [
    {
     "name": "stdout",
     "output_type": "stream",
     "text": [
      "Test Accuracy: 0.8121212121212121\n",
      "CPU times: user 7.56 s, sys: 5.66 s, total: 13.2 s\n",
      "Wall time: 7.42 s\n"
     ]
    }
   ],
   "source": [
    "%%time\n",
    "сlf = MultinomialNB()\n",
    "clf.fit(X_train_tfidf, y_train)\n",
    "y_pred = clf.predict(X_test_tfidf) \n",
    "print('Точность предсказания:', accuracy_score(y_test, y_pred))"
   ]
  },
  {
   "cell_type": "code",
   "execution_count": 61,
   "id": "976yaZYgF6Ip",
   "metadata": {
    "colab": {
     "base_uri": "https://localhost:8080/"
    },
    "id": "976yaZYgF6Ip",
    "outputId": "4c972dea-b60d-4ee3-ef15-d84a58efe701"
   },
   "outputs": [
    {
     "name": "stdout",
     "output_type": "stream",
     "text": [
      "Test Accuracy: 0.6363636363636364\n",
      "CPU times: user 5.41 ms, sys: 0 ns, total: 5.41 ms\n",
      "Wall time: 7.64 ms\n"
     ]
    }
   ],
   "source": [
    "%%time\n",
    "clf = MultinomialNB()\n",
    "clf.fit(X_train_w_a, y_train)\n",
    "y_pred = clf.predict(X_test_w_a)\n",
    "print('Точность предсказания:', accuracy_score(y_test, y_pred))"
   ]
  },
  {
   "cell_type": "code",
   "execution_count": 59,
   "id": "Cy1Mke990EkH",
   "metadata": {
    "id": "Cy1Mke990EkH"
   },
   "outputs": [],
   "source": [
    "table.loc[4] = ['Наивный байесовский классификатор для TF-IDF', accuracy_score(y_test, y_pred)]"
   ]
  },
  {
   "cell_type": "code",
   "execution_count": 60,
   "id": "tPTIMo8m0AqM",
   "metadata": {
    "colab": {
     "base_uri": "https://localhost:8080/",
     "height": 522
    },
    "id": "tPTIMo8m0AqM",
    "outputId": "83a1a9fb-8fad-4bb4-b137-50a67a6c7a6a"
   },
   "outputs": [
    {
     "data": {
      "image/png": "[encoded data removed]",
      "text/plain": [
       "<Figure size 800x600 with 2 Axes>"
      ]
     },
     "metadata": {},
     "output_type": "display_data"
    }
   ],
   "source": [
    "conf = confusion_matrix (y_test, y_pred)\n",
    "plt.figure(figsize=(8, 6))\n",
    "sns.heatmap(conf, annot=True, fmt='d') \n",
    "plt.show()"
   ]
  },
  {
   "cell_type": "markdown",
   "id": "dYCPnKQz0D7m",
   "metadata": {
    "id": "dYCPnKQz0D7m"
   },
   "source": [
    "Получаем, что для 1 класса было предсказано 99 верно из 105, для 2 класса - 10 из 10, для 3 класса - 13 из 19, для 4 класса 0 из 2, для 5 класса - 12 из 29"
   ]
  },
  {
   "cell_type": "markdown",
   "id": "7b753423",
   "metadata": {
    "id": "7b753423"
   },
   "source": [
    "### Logistic Regression "
   ]
  },
  {
   "cell_type": "code",
   "execution_count": 62,
   "id": "ff5n71ycCkx2",
   "metadata": {
    "colab": {
     "base_uri": "https://localhost:8080/"
    },
    "id": "ff5n71ycCkx2",
    "outputId": "3669060f-1825-4406-dc68-5b0ac2e346c2"
   },
   "outputs": [
    {
     "name": "stdout",
     "output_type": "stream",
     "text": [
      "Test Accuracy: 0.6363636363636364\n",
      "CPU times: user 15.1 ms, sys: 6 µs, total: 15.1 ms\n",
      "Wall time: 25 ms\n"
     ]
    }
   ],
   "source": [
    "%%time\n",
    "clf = LogisticRegression()\n",
    "clf.fit(X_train_w_a, y_train)\n",
    "y_pred = clf.predict(X_test_w_a)\n",
    "print('Точность предсказания:', accuracy_score(y_test, y_pred))"
   ]
  },
  {
   "cell_type": "code",
   "execution_count": 63,
   "id": "01b5844e",
   "metadata": {
    "colab": {
     "base_uri": "https://localhost:8080/"
    },
    "id": "01b5844e",
    "outputId": "2f7ef93a-92e2-4c2c-a4e9-c94af8b40880"
   },
   "outputs": [
    {
     "name": "stdout",
     "output_type": "stream",
     "text": [
      "Test Accuracy: 0.8242424242424242\n",
      "CPU times: user 481 ms, sys: 139 ms, total: 620 ms\n",
      "Wall time: 472 ms\n"
     ]
    }
   ],
   "source": [
    "%%time\n",
    "clf = LogisticRegression()\n",
    "clf.fit(X_train_tfidf, y_train)\n",
    "y_pred = clf.predict(X_test_tfidf)\n",
    "print ('Точность предсказания:', accuracy_score(y_test, y_pred))"
   ]
  },
  {
   "cell_type": "code",
   "execution_count": null,
   "id": "P8Rv_XMCOazp",
   "metadata": {
    "id": "P8Rv_XMCOazp"
   },
   "outputs": [],
   "source": [
    "# для векторизация BOW достигнут лимит итераций"
   ]
  },
  {
   "cell_type": "code",
   "execution_count": 64,
   "id": "qy5Cnlqc0cMM",
   "metadata": {
    "id": "qy5Cnlqc0cMM"
   },
   "outputs": [],
   "source": [
    "table.loc[5] = ['Логистическая регрессия для TF-IDF', accuracy_score(y_test, y_pred)]"
   ]
  },
  {
   "cell_type": "code",
   "execution_count": 65,
   "id": "4dJv2v7k0cRq",
   "metadata": {
    "colab": {
     "base_uri": "https://localhost:8080/",
     "height": 522
    },
    "id": "4dJv2v7k0cRq",
    "outputId": "e91f1e5e-bd4a-41d6-b080-44eb45cfeaad"
   },
   "outputs": [
    {
     "data": {
      "image/png": "[encoded data removed]",
      "text/plain": [
       "<Figure size 800x600 with 2 Axes>"
      ]
     },
     "metadata": {},
     "output_type": "display_data"
    }
   ],
   "source": [
    "conf = confusion_matrix (y_test, y_pred)\n",
    "plt.figure(figsize=(8, 6))\n",
    "sns.heatmap(conf, annot=True, fmt='d') \n",
    "plt.show()"
   ]
  },
  {
   "cell_type": "markdown",
   "id": "_vw_UmrB0exN",
   "metadata": {
    "id": "_vw_UmrB0exN"
   },
   "source": [
    "Получаем, что для 1 класса было предсказано 104 верно из 105, для 2 класса - 9 из 10, для 3 класса - 13 из 19, для 4 класса 0 из 2, для 5 класса - 9 из 29"
   ]
  },
  {
   "cell_type": "markdown",
   "id": "4279f0d3",
   "metadata": {
    "id": "4279f0d3"
   },
   "source": [
    "###  Пассивно-агрессивный классификатор\n"
   ]
  },
  {
   "cell_type": "code",
   "execution_count": 67,
   "id": "7a95491b",
   "metadata": {
    "colab": {
     "base_uri": "https://localhost:8080/"
    },
    "id": "7a95491b",
    "outputId": "392bb058-7e49-4fb3-d78d-7e7bf1fcc540"
   },
   "outputs": [
    {
     "name": "stdout",
     "output_type": "stream",
     "text": [
      "Test Accuracy: 0.8363636363636363\n",
      "CPU times: user 31 ms, sys: 0 ns, total: 31 ms\n",
      "Wall time: 30.8 ms\n"
     ]
    }
   ],
   "source": [
    "%%time\n",
    "clf = linear_model.PassiveAggressiveClassifier()\n",
    "clf.fit(X_train_tfidf, y_train)\n",
    "y_pred = clf.predict(X_test_tfidf)\n",
    "print ('Точность предсказания:', accuracy_score(y_test, y_pred))"
   ]
  },
  {
   "cell_type": "code",
   "execution_count": 90,
   "id": "3JIw2K9iT2Z0",
   "metadata": {
    "colab": {
     "base_uri": "https://localhost:8080/"
    },
    "id": "3JIw2K9iT2Z0",
    "outputId": "03e3f547-b686-481f-a587-4c58be0a7d13"
   },
   "outputs": [
    {
     "name": "stdout",
     "output_type": "stream",
     "text": [
      "Test Accuracy: 0.8121212121212121\n",
      "CPU times: user 42 ms, sys: 838 µs, total: 42.8 ms\n",
      "Wall time: 59.8 ms\n"
     ]
    }
   ],
   "source": [
    "%%time\n",
    "clf = linear_model.PassiveAggressiveClassifier()\n",
    "clf.fit(X_train_b, y_train)\n",
    "y_pred = clf.predict(X_test_b)\n",
    "print ('Точность предсказания:', accuracy_score(y_test, y_pred))"
   ]
  },
  {
   "cell_type": "code",
   "execution_count": 71,
   "id": "wMuH39QBGTqG",
   "metadata": {
    "colab": {
     "base_uri": "https://localhost:8080/"
    },
    "id": "wMuH39QBGTqG",
    "outputId": "a3a525fc-4ab9-4f26-c8dc-e36c4e739909"
   },
   "outputs": [
    {
     "name": "stdout",
     "output_type": "stream",
     "text": [
      "Test Accuracy: 0.6303030303030303\n",
      "CPU times: user 9.61 ms, sys: 112 µs, total: 9.72 ms\n",
      "Wall time: 10.2 ms\n"
     ]
    }
   ],
   "source": [
    "%%time\n",
    "clf = linear_model.PassiveAggressiveClassifier()\n",
    "clf.fit(X_train_w_a, y_train)\n",
    "y_pred = clf.predict(X_test_w_a)\n",
    "print('Точность предсказания:', accuracy_score(y_test, y_pred))"
   ]
  },
  {
   "cell_type": "code",
   "execution_count": 68,
   "id": "IqdqMrfKFuMa",
   "metadata": {
    "id": "IqdqMrfKFuMa"
   },
   "outputs": [],
   "source": [
    "table.loc[6] = ['Пассивно-агрессивный классификатор для TF-IDF', accuracy_score(y_test, y_pred)]"
   ]
  },
  {
   "cell_type": "code",
   "execution_count": 69,
   "id": "GwdHwZXcFuTD",
   "metadata": {
    "colab": {
     "base_uri": "https://localhost:8080/",
     "height": 522
    },
    "id": "GwdHwZXcFuTD",
    "outputId": "46fd0809-8ad9-4f20-99bd-eb4414919ca2"
   },
   "outputs": [
    {
     "data": {
      "image/png": "[encoded data removed]",
      "text/plain": [
       "<Figure size 800x600 with 2 Axes>"
      ]
     },
     "metadata": {},
     "output_type": "display_data"
    }
   ],
   "source": [
    "conf = confusion_matrix (y_test, y_pred)\n",
    "plt.figure(figsize=(8, 6))\n",
    "sns.heatmap(conf, annot=True, fmt='d') \n",
    "plt.show()"
   ]
  },
  {
   "cell_type": "markdown",
   "id": "7kMUUe4NF10E",
   "metadata": {
    "id": "7kMUUe4NF10E"
   },
   "source": [
    "Получаем, что для 1 класса было предсказано 99 верно из 105, для 2 класса - 9 из 10, для 3 класса - 14 из 19, для 4 класса 0 из 2, для 5 класса - 15 из 29"
   ]
  },
  {
   "cell_type": "code",
   "execution_count": 95,
   "id": "QnkJXe37GzUb",
   "metadata": {
    "id": "QnkJXe37GzUb"
   },
   "outputs": [],
   "source": [
    "table.loc[9] = ['Пассивно-агрессивный классификатор для BOW', accuracy_score(y_test, y_pred)]"
   ]
  },
  {
   "cell_type": "code",
   "execution_count": 96,
   "id": "GVcDZyZYG9ES",
   "metadata": {
    "colab": {
     "base_uri": "https://localhost:8080/",
     "height": 522
    },
    "id": "GVcDZyZYG9ES",
    "outputId": "3ee7ce4f-6bfe-4351-da52-3d34e2160af9"
   },
   "outputs": [
    {
     "data": {
      "image/png": "[encoded data removed]",
      "text/plain": [
       "<Figure size 800x600 with 2 Axes>"
      ]
     },
     "metadata": {},
     "output_type": "display_data"
    }
   ],
   "source": [
    "conf = confusion_matrix (y_test, y_pred) # матрица ошибок\n",
    "plt.figure(figsize=(8, 6))\n",
    "sns.heatmap(conf, annot=True, fmt='d') \n",
    "plt.show()"
   ]
  },
  {
   "cell_type": "markdown",
   "id": "YQRK3uCdG98R",
   "metadata": {
    "id": "YQRK3uCdG98R"
   },
   "source": [
    "Получаем, что для 1 класса было предсказано 92 верно из 105, для 2 класса - 9 из 10, для 3 класса - 14 из 19, для 4 класса 0 из 2, для 5 класса - 18 из 29"
   ]
  },
  {
   "cell_type": "markdown",
   "id": "f618b4a2",
   "metadata": {
    "id": "f618b4a2"
   },
   "source": [
    "### Гребневый классификатор"
   ]
  },
  {
   "cell_type": "code",
   "execution_count": 72,
   "id": "872a9082",
   "metadata": {
    "colab": {
     "base_uri": "https://localhost:8080/"
    },
    "id": "872a9082",
    "outputId": "22430371-fe39-4af0-b857-7812f13dc330"
   },
   "outputs": [
    {
     "name": "stdout",
     "output_type": "stream",
     "text": [
      "Test Accuracy: 0.8424242424242424\n",
      "CPU times: user 250 ms, sys: 79 ms, total: 329 ms\n",
      "Wall time: 200 ms\n"
     ]
    }
   ],
   "source": [
    "%%time\n",
    "clf = linear_model.RidgeClassifierCV()\n",
    "clf.fit(X_train_tfidf, y_train)\n",
    "y_pred = clf.predict(X_test_tfidf)\n",
    "print ('Точность предсказания:', accuracy_score(y_test, y_pred))"
   ]
  },
  {
   "cell_type": "code",
   "execution_count": 75,
   "id": "iRnxFR8HT2Z1",
   "metadata": {
    "colab": {
     "base_uri": "https://localhost:8080/"
    },
    "id": "iRnxFR8HT2Z1",
    "outputId": "67ffc31e-cac8-4b12-cb44-fadd8917a220"
   },
   "outputs": [
    {
     "name": "stdout",
     "output_type": "stream",
     "text": [
      "Test Accuracy: 0.7636363636363637\n",
      "CPU times: user 221 ms, sys: 80.4 ms, total: 302 ms\n",
      "Wall time: 177 ms\n"
     ]
    }
   ],
   "source": [
    "%%time\n",
    "clf = linear_model.RidgeClassifierCV()\n",
    "clf.fit(X_train_b, y_train)\n",
    "y_pred = clf.predict(X_test_b)\n",
    "print ('Точность предсказания:', accuracy_score(y_test, y_pred))"
   ]
  },
  {
   "cell_type": "code",
   "execution_count": 76,
   "id": "A4lYLHrkT2Z1",
   "metadata": {
    "colab": {
     "base_uri": "https://localhost:8080/"
    },
    "id": "A4lYLHrkT2Z1",
    "outputId": "bc9b93d4-2a39-4198-ca63-abe1f5a30ccf"
   },
   "outputs": [
    {
     "name": "stdout",
     "output_type": "stream",
     "text": [
      "Test Accuracy: 0.6363636363636364\n",
      "CPU times: user 6.64 ms, sys: 121 µs, total: 6.76 ms\n",
      "Wall time: 17.2 ms\n"
     ]
    }
   ],
   "source": [
    "%%time\n",
    "clf = linear_model.RidgeClassifierCV()\n",
    "clf.fit(X_train_w_a, y_train)\n",
    "y_pred = clf.predict(X_test_w_a)\n",
    "print('Точность предсказания:', accuracy_score(y_test, y_pred))"
   ]
  },
  {
   "cell_type": "code",
   "execution_count": 73,
   "id": "EWbClS_qxmJC",
   "metadata": {
    "id": "EWbClS_qxmJC"
   },
   "outputs": [],
   "source": [
    "table.loc[7] = ['Гребневый классификатор для TF-IDF', accuracy_score(y_test, y_pred)]"
   ]
  },
  {
   "cell_type": "markdown",
   "id": "zzHfgOG0YUZA",
   "metadata": {
    "id": "zzHfgOG0YUZA"
   },
   "source": [
    "Предсказание с данной моделью дает хорошую точность"
   ]
  },
  {
   "cell_type": "code",
   "execution_count": 74,
   "id": "aqTCcI25YYcq",
   "metadata": {
    "colab": {
     "base_uri": "https://localhost:8080/",
     "height": 522
    },
    "id": "aqTCcI25YYcq",
    "outputId": "f07b176e-cd9e-4c19-b1e5-5f4750af7477"
   },
   "outputs": [
    {
     "data": {
      "image/png": "[encoded data removed]",
      "text/plain": [
       "<Figure size 800x600 with 2 Axes>"
      ]
     },
     "metadata": {},
     "output_type": "display_data"
    }
   ],
   "source": [
    "conf = confusion_matrix (y_test, y_pred)\n",
    "plt.figure(figsize=(8, 6))\n",
    "sns.heatmap(conf, annot=True, fmt='d') \n",
    "plt.show()"
   ]
  },
  {
   "cell_type": "markdown",
   "id": "GFr8kfInYd75",
   "metadata": {
    "id": "GFr8kfInYd75"
   },
   "source": [
    "Получаем, что для 1 класса было предсказано 103 верно из 105, для 2 класса - 10 из 10, для 3 класса - 13 из 19, для 4 класса 0 из 2, для 5 класса - 13 из 29"
   ]
  },
  {
   "cell_type": "markdown",
   "id": "eeacf216",
   "metadata": {
    "id": "eeacf216"
   },
   "source": [
    "### Случайный лес"
   ]
  },
  {
   "cell_type": "code",
   "execution_count": 77,
   "id": "eb71ce7c",
   "metadata": {
    "colab": {
     "base_uri": "https://localhost:8080/"
    },
    "id": "eb71ce7c",
    "outputId": "12563749-4b8c-4a90-c9ba-a5e6f76127b0"
   },
   "outputs": [
    {
     "name": "stdout",
     "output_type": "stream",
     "text": [
      "Test Accuracy: 0.7878787878787878\n",
      "CPU times: user 603 ms, sys: 3.1 ms, total: 606 ms\n",
      "Wall time: 612 ms\n"
     ]
    }
   ],
   "source": [
    "%%time\n",
    "clf = ensemble.RandomForestClassifier()\n",
    "clf.fit(X_train_tfidf, y_train)\n",
    "y_pred = clf.predict(X_test_tfidf)\n",
    "print ('Точность предсказания:', accuracy_score(y_test, y_pred))"
   ]
  },
  {
   "cell_type": "code",
   "execution_count": 78,
   "id": "u23EXJJpT2Z2",
   "metadata": {
    "colab": {
     "base_uri": "https://localhost:8080/"
    },
    "id": "u23EXJJpT2Z2",
    "outputId": "be9c961e-8433-4787-abd7-b82788aa7945"
   },
   "outputs": [
    {
     "name": "stdout",
     "output_type": "stream",
     "text": [
      "Test Accuracy: 0.8\n",
      "CPU times: user 472 ms, sys: 1.24 ms, total: 474 ms\n",
      "Wall time: 475 ms\n"
     ]
    }
   ],
   "source": [
    "%%time\n",
    "clf = ensemble.RandomForestClassifier()\n",
    "clf.fit(X_train_b, y_train)\n",
    "y_pred = clf.predict(X_test_b)\n",
    "print('Точность предсказания:', accuracy_score(y_test, y_pred))"
   ]
  },
  {
   "cell_type": "code",
   "execution_count": 81,
   "id": "ngbmhOvxFqOu",
   "metadata": {
    "colab": {
     "base_uri": "https://localhost:8080/"
    },
    "id": "ngbmhOvxFqOu",
    "outputId": "ce8e249c-6a0b-45c8-c07d-dfca83da44fb"
   },
   "outputs": [
    {
     "name": "stdout",
     "output_type": "stream",
     "text": [
      "Test Accuracy: 0.5393939393939394\n",
      "CPU times: user 242 ms, sys: 194 µs, total: 242 ms\n",
      "Wall time: 247 ms\n"
     ]
    }
   ],
   "source": [
    "%%time\n",
    "clf = ensemble.RandomForestClassifier()\n",
    "clf.fit(X_train_w_a, y_train)\n",
    "y_pred = clf.predict(X_test_w_a)\n",
    "print('Точность предсказания:', accuracy_score(y_test, y_pred))"
   ]
  },
  {
   "cell_type": "code",
   "execution_count": 79,
   "id": "dAy_BZJV1JAm",
   "metadata": {
    "id": "dAy_BZJV1JAm"
   },
   "outputs": [],
   "source": [
    "table.loc[8] = ['Случайный лес для TF-IDF', accuracy_score(y_test, y_pred)]"
   ]
  },
  {
   "cell_type": "markdown",
   "id": "YIjvPCXKYlnr",
   "metadata": {
    "id": "YIjvPCXKYlnr"
   },
   "source": [
    "Предсказание с данной моделью дает хорошую точность"
   ]
  },
  {
   "cell_type": "code",
   "execution_count": 80,
   "id": "72f3eff5",
   "metadata": {
    "colab": {
     "base_uri": "https://localhost:8080/",
     "height": 522
    },
    "id": "72f3eff5",
    "outputId": "a8481178-f38a-414d-e8c0-98465f9a1d28"
   },
   "outputs": [
    {
     "data": {
      "image/png": "[encoded data removed]",
      "text/plain": [
       "<Figure size 800x600 with 2 Axes>"
      ]
     },
     "metadata": {},
     "output_type": "display_data"
    }
   ],
   "source": [
    "conf = confusion_matrix (y_test, y_pred)\n",
    "plt.figure(figsize=(8, 6))\n",
    "sns.heatmap(conf, annot=True, fmt='d') \n",
    "plt.show()"
   ]
  },
  {
   "cell_type": "markdown",
   "id": "-UG_I6msYrLh",
   "metadata": {
    "id": "-UG_I6msYrLh"
   },
   "source": [
    "Получаем, что для 1 класса было предсказано 103 верно из 105, для 2 класса - 10 из 10, для 3 класса - 12 из 19, для 4 класса 0 из 2, для 5 класса - 7 из 29"
   ]
  },
  {
   "cell_type": "markdown",
   "id": "a30e5b85",
   "metadata": {
    "id": "a30e5b85"
   },
   "source": [
    "### Беггинг"
   ]
  },
  {
   "cell_type": "code",
   "execution_count": 82,
   "id": "99e6ecca",
   "metadata": {
    "colab": {
     "base_uri": "https://localhost:8080/"
    },
    "id": "99e6ecca",
    "outputId": "8cf868d8-5b6f-48f5-848b-6876d2939b84"
   },
   "outputs": [
    {
     "name": "stdout",
     "output_type": "stream",
     "text": [
      "Test Accuracy: 0.7878787878787878\n",
      "CPU times: user 1.47 s, sys: 0 ns, total: 1.47 s\n",
      "Wall time: 1.59 s\n"
     ]
    }
   ],
   "source": [
    "%%time\n",
    "clf = ensemble.BaggingClassifier()\n",
    "clf.fit(X_train_tfidf, y_train)\n",
    "y_pred = clf.predict(X_test_tfidf)\n",
    "print ('Точность предсказания:', accuracy_score(y_test, y_pred))"
   ]
  },
  {
   "cell_type": "code",
   "execution_count": 83,
   "id": "lUD-ZxklT2Z3",
   "metadata": {
    "colab": {
     "base_uri": "https://localhost:8080/"
    },
    "id": "lUD-ZxklT2Z3",
    "outputId": "9af41754-4b07-4b4c-9202-fb8b926438df"
   },
   "outputs": [
    {
     "name": "stdout",
     "output_type": "stream",
     "text": [
      "Test Accuracy: 0.7636363636363637\n",
      "CPU times: user 842 ms, sys: 1.64 ms, total: 844 ms\n",
      "Wall time: 843 ms\n"
     ]
    }
   ],
   "source": [
    "%%time\n",
    "clf = ensemble.BaggingClassifier()\n",
    "clf.fit(X_train_b, y_train)\n",
    "y_pred = clf.predict(X_test_b)\n",
    "print ('Точность предсказания:', accuracy_score(y_test, y_pred))"
   ]
  },
  {
   "cell_type": "code",
   "execution_count": 84,
   "id": "yHCye_7eFUb1",
   "metadata": {
    "colab": {
     "base_uri": "https://localhost:8080/"
    },
    "id": "yHCye_7eFUb1",
    "outputId": "5801b901-73a6-4dcc-fd4b-0ef16e727323"
   },
   "outputs": [
    {
     "name": "stdout",
     "output_type": "stream",
     "text": [
      "Test Accuracy: 0.5333333333333333\n",
      "CPU times: user 30.6 ms, sys: 0 ns, total: 30.6 ms\n",
      "Wall time: 30.9 ms\n"
     ]
    }
   ],
   "source": [
    "%%time\n",
    "clf = ensemble.BaggingClassifier()\n",
    "clf.fit(X_train_w_a, y_train)\n",
    "y_pred = clf.predict(X_test_w_a)\n",
    "print('Точность предсказания:', accuracy_score(y_test, y_pred))"
   ]
  },
  {
   "cell_type": "markdown",
   "id": "UA5YH3fbY5qw",
   "metadata": {
    "id": "UA5YH3fbY5qw"
   },
   "source": [
    "Предсказание с данной моделью дает результат хуже"
   ]
  },
  {
   "cell_type": "markdown",
   "id": "ANm-HGVeD_iq",
   "metadata": {
    "id": "ANm-HGVeD_iq"
   },
   "source": [
    "### Градиентный бустинг"
   ]
  },
  {
   "cell_type": "markdown",
   "id": "JM5zPIrEENUF",
   "metadata": {
    "id": "JM5zPIrEENUF"
   },
   "source": [
    "Градиентный бустинг - метод, который строит множество слабых моделей (например, деревьев решений) и улучшает их, минимизируя ошибку градиентного спуска."
   ]
  },
  {
   "cell_type": "code",
   "execution_count": 97,
   "id": "7kXEwXCvED1T",
   "metadata": {
    "colab": {
     "base_uri": "https://localhost:8080/"
    },
    "id": "7kXEwXCvED1T",
    "outputId": "8f5477d5-b78f-4018-a0b2-e9d84a5a47c2"
   },
   "outputs": [
    {
     "name": "stdout",
     "output_type": "stream",
     "text": [
      "CPU times: user 17.1 s, sys: 15.6 ms, total: 17.2 s\n",
      "Wall time: 21.9 s\n"
     ]
    },
    {
     "data": {
      "text/plain": [
       "0.7818181818181819"
      ]
     },
     "execution_count": 97,
     "metadata": {},
     "output_type": "execute_result"
    }
   ],
   "source": [
    "%%time\n",
    "clf = ensemble.GradientBoostingClassifier()\n",
    "\n",
    "clf.fit(X_train_tfidf, y_train)\n",
    "y_pred = clf.predict(X_test_tfidf)\n",
    "accuracy_score(y_test, y_pred)"
   ]
  },
  {
   "cell_type": "code",
   "execution_count": 98,
   "id": "WC25y4UwED8g",
   "metadata": {
    "colab": {
     "base_uri": "https://localhost:8080/"
    },
    "id": "WC25y4UwED8g",
    "outputId": "75b04d64-3f0f-457c-d671-cf8a1cc679e8"
   },
   "outputs": [
    {
     "name": "stdout",
     "output_type": "stream",
     "text": [
      "CPU times: user 6.28 s, sys: 10.3 ms, total: 6.29 s\n",
      "Wall time: 6.59 s\n"
     ]
    },
    {
     "data": {
      "text/plain": [
       "0.793939393939394"
      ]
     },
     "execution_count": 98,
     "metadata": {},
     "output_type": "execute_result"
    }
   ],
   "source": [
    "%%time\n",
    "clf = ensemble.GradientBoostingClassifier()\n",
    "clf.fit(X_train_b, y_train)\n",
    "y_pred = clf.predict(X_test_b)\n",
    "accuracy_score(y_test, y_pred)"
   ]
  },
  {
   "cell_type": "code",
   "execution_count": 99,
   "id": "wLuVdEl4T2Z4",
   "metadata": {
    "colab": {
     "base_uri": "https://localhost:8080/"
    },
    "id": "wLuVdEl4T2Z4",
    "outputId": "fd375de0-9ec6-4173-eae0-aabb4107a77d"
   },
   "outputs": [
    {
     "name": "stdout",
     "output_type": "stream",
     "text": [
      "CPU times: user 917 ms, sys: 4.74 ms, total: 921 ms\n",
      "Wall time: 1.52 s\n"
     ]
    },
    {
     "data": {
      "text/plain": [
       "0.6060606060606061"
      ]
     },
     "execution_count": 99,
     "metadata": {},
     "output_type": "execute_result"
    }
   ],
   "source": [
    "%%time\n",
    "clf = ensemble.GradientBoostingClassifier()\n",
    "clf.fit(X_train_w_a, y_train)\n",
    "y_pred = clf.predict(X_test_w_a)\n",
    "accuracy_score(y_test, y_pred)"
   ]
  },
  {
   "cell_type": "code",
   "execution_count": 102,
   "id": "zXTF01mL10ye",
   "metadata": {
    "colab": {
     "base_uri": "https://localhost:8080/",
     "height": 328
    },
    "id": "zXTF01mL10ye",
    "outputId": "a7304b1b-9e83-4a15-9a23-691f0df2122c"
   },
   "outputs": [
    {
     "data": {
      "text/html": [
       "\n",
       "  <div id=\"df-3b82446f-8c9c-4679-81ca-5bcaebc27701\">\n",
       "    <div class=\"colab-df-container\">\n",
       "      <div>\n",
       "<style scoped>\n",
       "    .dataframe tbody tr th:only-of-type {\n",
       "        vertical-align: middle;\n",
       "    }\n",
       "\n",
       "    .dataframe tbody tr th {\n",
       "        vertical-align: top;\n",
       "    }\n",
       "\n",
       "    .dataframe thead th {\n",
       "        text-align: right;\n",
       "    }\n",
       "</style>\n",
       "<table border=\"1\" class=\"dataframe\">\n",
       "  <thead>\n",
       "    <tr style=\"text-align: right;\">\n",
       "      <th></th>\n",
       "      <th>Название модели</th>\n",
       "      <th>Точность</th>\n",
       "    </tr>\n",
       "  </thead>\n",
       "  <tbody>\n",
       "    <tr>\n",
       "      <th>1</th>\n",
       "      <td>Метод опорных векторов с линейным ядром для TF...</td>\n",
       "      <td>0.836364</td>\n",
       "    </tr>\n",
       "    <tr>\n",
       "      <th>0</th>\n",
       "      <td>Метод опорных векторов с ядром rbf для TF-IDF</td>\n",
       "      <td>0.806061</td>\n",
       "    </tr>\n",
       "    <tr>\n",
       "      <th>2</th>\n",
       "      <td>Метод ближайших соседей для TF-IDF</td>\n",
       "      <td>0.812121</td>\n",
       "    </tr>\n",
       "    <tr>\n",
       "      <th>3</th>\n",
       "      <td>Многослойный перцептрон для BOW</td>\n",
       "      <td>0.818182</td>\n",
       "    </tr>\n",
       "    <tr>\n",
       "      <th>4</th>\n",
       "      <td>Наивный байесовский классификатор для TF-IDF</td>\n",
       "      <td>0.812121</td>\n",
       "    </tr>\n",
       "    <tr>\n",
       "      <th>5</th>\n",
       "      <td>Логистическая регрессия для TF-IDF</td>\n",
       "      <td>0.824242</td>\n",
       "    </tr>\n",
       "    <tr>\n",
       "      <th>6</th>\n",
       "      <td>Пассивно-агрессивный классификатор для TF-IDF</td>\n",
       "      <td>0.836364</td>\n",
       "    </tr>\n",
       "    <tr>\n",
       "      <th>7</th>\n",
       "      <td>Гребневый классификатор для TF-IDF</td>\n",
       "      <td>0.842424</td>\n",
       "    </tr>\n",
       "    <tr>\n",
       "      <th>8</th>\n",
       "      <td>Пассивно-агрессивный классификатор для BOW</td>\n",
       "      <td>0.812121</td>\n",
       "    </tr>\n",
       "  </tbody>\n",
       "</table>\n",
       "</div>\n",
       "      <button class=\"colab-df-convert\" onclick=\"convertToInteractive('df-3b82446f-8c9c-4679-81ca-5bcaebc27701')\"\n",
       "              title=\"Convert this dataframe to an interactive table.\"\n",
       "              style=\"display:none;\">\n",
       "        \n",
       "  <svg xmlns=\"http://www.w3.org/2000/svg\" height=\"24px\"viewBox=\"0 0 24 24\"\n",
       "       width=\"24px\">\n",
       "    <path d=\"M0 0h24v24H0V0z\" fill=\"none\"/>\n",
       "    <path d=\"M18.56 5.44l.94 2.06.94-2.06 2.06-.94-2.06-.94-.94-2.06-.94 2.06-2.06.94zm-11 1L8.5 8.5l.94-2.06 2.06-.94-2.06-.94L8.5 2.5l-.94 2.06-2.06.94zm10 10l.94 2.06.94-2.06 2.06-.94-2.06-.94-.94-2.06-.94 2.06-2.06.94z\"/><path d=\"M17.41 7.96l-1.37-1.37c-.4-.4-.92-.59-1.43-.59-.52 0-1.04.2-1.43.59L10.3 9.45l-7.72 7.72c-.78.78-.78 2.05 0 2.83L4 21.41c.39.39.9.59 1.41.59.51 0 1.02-.2 1.41-.59l7.78-7.78 2.81-2.81c.8-.78.8-2.07 0-2.86zM5.41 20L4 18.59l7.72-7.72 1.47 1.35L5.41 20z\"/>\n",
       "  </svg>\n",
       "      </button>\n",
       "      \n",
       "  <style>\n",
       "    .colab-df-container {\n",
       "      display:flex;\n",
       "      flex-wrap:wrap;\n",
       "      gap: 12px;\n",
       "    }\n",
       "\n",
       "    .colab-df-convert {\n",
       "      background-color: #E8F0FE;\n",
       "      border: none;\n",
       "      border-radius: 50%;\n",
       "      cursor: pointer;\n",
       "      display: none;\n",
       "      fill: #1967D2;\n",
       "      height: 32px;\n",
       "      padding: 0 0 0 0;\n",
       "      width: 32px;\n",
       "    }\n",
       "\n",
       "    .colab-df-convert:hover {\n",
       "      background-color: #E2EBFA;\n",
       "      box-shadow: 0px 1px 2px rgba(60, 64, 67, 0.3), 0px 1px 3px 1px rgba(60, 64, 67, 0.15);\n",
       "      fill: #174EA6;\n",
       "    }\n",
       "\n",
       "    [theme=dark] .colab-df-convert {\n",
       "      background-color: #3B4455;\n",
       "      fill: #D2E3FC;\n",
       "    }\n",
       "\n",
       "    [theme=dark] .colab-df-convert:hover {\n",
       "      background-color: #434B5C;\n",
       "      box-shadow: 0px 1px 3px 1px rgba(0, 0, 0, 0.15);\n",
       "      filter: drop-shadow(0px 1px 2px rgba(0, 0, 0, 0.3));\n",
       "      fill: #FFFFFF;\n",
       "    }\n",
       "  </style>\n",
       "\n",
       "      <script>\n",
       "        const buttonEl =\n",
       "          document.querySelector('#df-3b82446f-8c9c-4679-81ca-5bcaebc27701 button.colab-df-convert');\n",
       "        buttonEl.style.display =\n",
       "          google.colab.kernel.accessAllowed ? 'block' : 'none';\n",
       "\n",
       "        async function convertToInteractive(key) {\n",
       "          const element = document.querySelector('#df-3b82446f-8c9c-4679-81ca-5bcaebc27701');\n",
       "          const dataTable =\n",
       "            await google.colab.kernel.invokeFunction('convertToInteractive',\n",
       "                                                     [key], {});\n",
       "          if (!dataTable) return;\n",
       "\n",
       "          const docLinkHtml = 'Like what you see? Visit the ' +\n",
       "            '<a target=\"_blank\" href=https://colab.research.google.com/notebooks/data_table.ipynb>data table notebook</a>'\n",
       "            + ' to learn more about interactive tables.';\n",
       "          element.innerHTML = '';\n",
       "          dataTable['output_type'] = 'display_data';\n",
       "          await google.colab.output.renderOutput(dataTable, element);\n",
       "          const docLink = document.createElement('div');\n",
       "          docLink.innerHTML = docLinkHtml;\n",
       "          element.appendChild(docLink);\n",
       "        }\n",
       "      </script>\n",
       "    </div>\n",
       "  </div>\n",
       "  "
      ],
      "text/plain": [
       "                                     Название модели  Точность\n",
       "1  Метод опорных векторов с линейным ядром для TF...  0.836364\n",
       "0      Метод опорных векторов с ядром rbf для TF-IDF  0.806061\n",
       "2                 Метод ближайших соседей для TF-IDF  0.812121\n",
       "3                    Многослойный перцептрон для BOW  0.818182\n",
       "4       Наивный байесовский классификатор для TF-IDF  0.812121\n",
       "5                 Логистическая регрессия для TF-IDF  0.824242\n",
       "6      Пассивно-агрессивный классификатор для TF-IDF  0.836364\n",
       "7                 Гребневый классификатор для TF-IDF  0.842424\n",
       "8         Пассивно-агрессивный классификатор для BOW  0.812121"
      ]
     },
     "execution_count": 102,
     "metadata": {},
     "output_type": "execute_result"
    }
   ],
   "source": [
    "table.iloc[:9]"
   ]
  },
  {
   "cell_type": "markdown",
   "id": "6ac31c5f",
   "metadata": {
    "id": "6ac31c5f"
   },
   "source": [
    "Вывод: самыми лучшим векторизатором является TF-IDF, а моделями Метод опорных векторов с линейным и rbf ядрами, Метод ближайших соседей, Многослойный перцептрон, Наивный байесовский классификатор, Логистическая регрессия, Пассивно-агрессивный классификатор, Гребневый классификатор"
   ]
  },
  {
   "cell_type": "markdown",
   "id": "-T266cN-T2Z5",
   "metadata": {
    "id": "-T266cN-T2Z5"
   },
   "source": [
    "# Улучшение модели"
   ]
  },
  {
   "cell_type": "markdown",
   "id": "rS6b0KZIT2Z5",
   "metadata": {
    "id": "rS6b0KZIT2Z5"
   },
   "source": [
    "## Кросс-валидация"
   ]
  },
  {
   "cell_type": "markdown",
   "id": "54d6b219",
   "metadata": {
    "id": "54d6b219"
   },
   "source": [
    "Проверим работу наилучших моделей с помощью кросс-валидации"
   ]
  },
  {
   "cell_type": "code",
   "execution_count": 103,
   "id": "afa50432",
   "metadata": {
    "id": "afa50432"
   },
   "outputs": [],
   "source": [
    "# Создаём k-блочное разбиение (KFold)\n",
    "kf = KFold(n_splits = 5,shuffle=True, random_state=15)"
   ]
  },
  {
   "cell_type": "code",
   "execution_count": 104,
   "id": "fe513507",
   "metadata": {
    "id": "fe513507"
   },
   "outputs": [],
   "source": [
    "X = morph_data"
   ]
  },
  {
   "cell_type": "code",
   "execution_count": 105,
   "id": "b74f4092",
   "metadata": {
    "id": "b74f4092",
    "scrolled": true
   },
   "outputs": [],
   "source": [
    "#разбиение на блоки\n",
    "\n",
    "for i, (train_index, test_index) in enumerate(kf.split(y)):\n",
    "\n",
    "    X_train, X_test = X[train_index], X[test_index]\n",
    "    y_train, y_test = y[train_index], y[test_index]"
   ]
  },
  {
   "cell_type": "code",
   "execution_count": 106,
   "id": "0a29bb65",
   "metadata": {
    "colab": {
     "base_uri": "https://localhost:8080/"
    },
    "id": "0a29bb65",
    "outputId": "53468006-bf33-401f-9ae6-fc873e4e2dab"
   },
   "outputs": [
    {
     "name": "stdout",
     "output_type": "stream",
     "text": [
      "Кросс-валидация:  [0.70909091 0.78181818 0.84848485 0.82424242 0.75151515]\n",
      "Среднее по кросс-валидации:  0.783030303030303\n",
      "CPU times: user 481 ms, sys: 93.1 ms, total: 574 ms\n",
      "Wall time: 5.4 s\n"
     ]
    }
   ],
   "source": [
    "%%time\n",
    "# Метод опорных векторов с линейным ядром для TF-IDF\n",
    "cv_results = cross_val_score(svm.SVC(kernel='linear'),           \n",
    "                             vectorizer.fit_transform(X),                     \n",
    "                             y,                           \n",
    "                             n_jobs=-1)             \n",
    "\n",
    "print(\"Кросс-валидация: \", cv_results)\n",
    "print(\"Среднее по кросс-валидации: \", cv_results.mean())"
   ]
  },
  {
   "cell_type": "code",
   "execution_count": 107,
   "id": "pfKUzIbb2QGp",
   "metadata": {
    "colab": {
     "base_uri": "https://localhost:8080/"
    },
    "id": "pfKUzIbb2QGp",
    "outputId": "cd32d254-5ef3-43dc-85f5-8cfc7490d841"
   },
   "outputs": [
    {
     "name": "stdout",
     "output_type": "stream",
     "text": [
      "Кросс-валидация:  [0.72727273 0.75757576 0.83030303 0.8        0.75757576]\n",
      "Среднее по кросс-валидации:  0.7745454545454546\n",
      "CPU times: user 280 ms, sys: 6.25 ms, total: 286 ms\n",
      "Wall time: 4.56 s\n"
     ]
    }
   ],
   "source": [
    "%%time\n",
    "# Метод опорных векторов с rbf ядром для TF-IDF\n",
    "cv_results = cross_val_score(svm.SVC(kernel='rbf'),           \n",
    "                             vectorizer.fit_transform(X),                     \n",
    "                             y,                           \n",
    "                             n_jobs=-1)             \n",
    "\n",
    "print(\"Кросс-валидация: \", cv_results)\n",
    "print(\"Среднее по кросс-валидации: \", cv_results.mean())"
   ]
  },
  {
   "cell_type": "code",
   "execution_count": 109,
   "id": "PHRseCKQH0D8",
   "metadata": {
    "colab": {
     "base_uri": "https://localhost:8080/"
    },
    "id": "PHRseCKQH0D8",
    "outputId": "8b0a7833-de23-4651-d8d5-2627c5ef9ac2"
   },
   "outputs": [
    {
     "name": "stdout",
     "output_type": "stream",
     "text": [
      "Кросс-валидация:  [0.43030303 0.73333333 0.78787879 0.76969697 0.51515152]\n",
      "Среднее по кросс-валидации:  0.6472727272727272\n",
      "CPU times: user 442 ms, sys: 4.91 ms, total: 447 ms\n",
      "Wall time: 683 ms\n"
     ]
    }
   ],
   "source": [
    "%%time\n",
    "# Метод ближайших соседей для TF-IDF\n",
    "cv_results = cross_val_score(neighbors.KNeighborsClassifier(),           \n",
    "                             vect.fit_transform(X),                     \n",
    "                             y,                           \n",
    "                             n_jobs=-1)             \n",
    "\n",
    "print(\"Кросс-валидация: \", cv_results)\n",
    "print(\"Среднее по кросс-валидации: \", cv_results.mean())"
   ]
  },
  {
   "cell_type": "code",
   "execution_count": 108,
   "id": "g01EHz0G2QNB",
   "metadata": {
    "colab": {
     "base_uri": "https://localhost:8080/"
    },
    "id": "g01EHz0G2QNB",
    "outputId": "017b2fa8-5308-4773-ccf8-f14b7001402e"
   },
   "outputs": [
    {
     "name": "stdout",
     "output_type": "stream",
     "text": [
      "Кросс-валидация:  [0.66060606 0.73333333 0.85454545 0.80606061 0.73333333]\n",
      "Среднее по кросс-валидации:  0.7575757575757576\n",
      "CPU times: user 375 ms, sys: 16.8 ms, total: 392 ms\n",
      "Wall time: 25.6 s\n"
     ]
    }
   ],
   "source": [
    "%%time\n",
    "# Многослоный перцептрон для BOW\n",
    "cv_results = cross_val_score(neural_network.MLPClassifier(),           \n",
    "                             vect.fit_transform(X),                     \n",
    "                             y,                           \n",
    "                             n_jobs=-1)             \n",
    "\n",
    "print(\"Кросс-валидация: \", cv_results)\n",
    "print(\"Среднее по кросс-валидации: \", cv_results.mean())"
   ]
  },
  {
   "cell_type": "code",
   "execution_count": 110,
   "id": "78zVAE9V2u4V",
   "metadata": {
    "colab": {
     "base_uri": "https://localhost:8080/"
    },
    "id": "78zVAE9V2u4V",
    "outputId": "6b3fdd63-d04c-4d9e-ad70-3e132f907799"
   },
   "outputs": [
    {
     "name": "stdout",
     "output_type": "stream",
     "text": [
      "Кросс-валидация:  [0.71515152 0.76969697 0.81818182 0.76363636 0.79393939]\n",
      "Среднее по кросс-валидации:  0.7721212121212122\n",
      "CPU times: user 457 ms, sys: 870 µs, total: 458 ms\n",
      "Wall time: 524 ms\n"
     ]
    }
   ],
   "source": [
    "%%time\n",
    "# Наивный байесовский классификатор для TF-IDF\n",
    "cv_results = cross_val_score(MultinomialNB(),           \n",
    "                             vectorizer.fit_transform(X),                     \n",
    "                             y,                           \n",
    "                             n_jobs=-1)             \n",
    "\n",
    "print(\"Кросс-валидация: \", cv_results)\n",
    "print(\"Среднее по кросс-валидации: \", cv_results.mean())"
   ]
  },
  {
   "cell_type": "code",
   "execution_count": 111,
   "id": "AHtActtP2_Qi",
   "metadata": {
    "colab": {
     "base_uri": "https://localhost:8080/"
    },
    "id": "AHtActtP2_Qi",
    "outputId": "4e62e1db-45d5-45a3-a843-1e2c2dd2041c"
   },
   "outputs": [
    {
     "name": "stdout",
     "output_type": "stream",
     "text": [
      "Кросс-валидация:  [0.72727273 0.75757576 0.84242424 0.79393939 0.76363636]\n",
      "Среднее по кросс-валидации:  0.776969696969697\n",
      "CPU times: user 262 ms, sys: 3.87 ms, total: 266 ms\n",
      "Wall time: 771 ms\n"
     ]
    }
   ],
   "source": [
    "%%time\n",
    "# Логистическая регрессия для TF-IDF\n",
    "cv_results = cross_val_score(LogisticRegression(),           \n",
    "                             vectorizer.fit_transform(X),                     \n",
    "                             y,                           \n",
    "                             n_jobs=-1)             \n",
    "\n",
    "print(\"Кросс-валидация: \", cv_results)\n",
    "print(\"Среднее по кросс-валидации: \", cv_results.mean())"
   ]
  },
  {
   "cell_type": "code",
   "execution_count": 112,
   "id": "xlEVRU23IG4y",
   "metadata": {
    "colab": {
     "base_uri": "https://localhost:8080/"
    },
    "id": "xlEVRU23IG4y",
    "outputId": "d8114ac2-e5a4-4f6e-bc40-9d47173853fc"
   },
   "outputs": [
    {
     "name": "stdout",
     "output_type": "stream",
     "text": [
      "Кросс-валидация:  [0.66666667 0.66666667 0.8        0.8        0.72121212]\n",
      "Среднее по кросс-валидации:  0.730909090909091\n",
      "CPU times: user 453 ms, sys: 4.39 ms, total: 458 ms\n",
      "Wall time: 1.09 s\n"
     ]
    }
   ],
   "source": [
    "%%time\n",
    "# Пассивно-агрессивный классификатор для TF-IDF \n",
    "cv_results = cross_val_score(linear_model.PassiveAggressiveClassifier(),           \n",
    "                             vectorizer.fit_transform(X),                     \n",
    "                             y,                           \n",
    "                             n_jobs=-1)             \n",
    "\n",
    "print(\"Кросс-валидация: \", cv_results)\n",
    "print(\"Среднее по кросс-валидации: \", cv_results.mean())"
   ]
  },
  {
   "cell_type": "code",
   "execution_count": 114,
   "id": "rQP1ngy5IHDd",
   "metadata": {
    "colab": {
     "base_uri": "https://localhost:8080/"
    },
    "id": "rQP1ngy5IHDd",
    "outputId": "6d3bbc49-23b4-42ce-f0c1-ca961ed94f7e"
   },
   "outputs": [
    {
     "name": "stdout",
     "output_type": "stream",
     "text": [
      "Кросс-валидация:  [0.59393939 0.64242424 0.76969697 0.8        0.71515152]\n",
      "Среднее по кросс-валидации:  0.7042424242424242\n",
      "CPU times: user 433 ms, sys: 6.69 ms, total: 440 ms\n",
      "Wall time: 749 ms\n"
     ]
    }
   ],
   "source": [
    "%%time\n",
    "# Пассивно-агрессивный классификатор для BOW\n",
    "cv_results = cross_val_score(linear_model.PassiveAggressiveClassifier(),           \n",
    "                             vect.fit_transform(X),                     \n",
    "                             y,                           \n",
    "                             n_jobs=-1)             \n",
    "\n",
    "print(\"Кросс-валидация: \", cv_results)\n",
    "print(\"Среднее по кросс-валидации: \", cv_results.mean())"
   ]
  },
  {
   "cell_type": "code",
   "execution_count": 115,
   "id": "LMm6ZurA2_WA",
   "metadata": {
    "colab": {
     "base_uri": "https://localhost:8080/"
    },
    "id": "LMm6ZurA2_WA",
    "outputId": "8ee929a6-6f58-442a-a001-95d11f497cfa"
   },
   "outputs": [
    {
     "name": "stdout",
     "output_type": "stream",
     "text": [
      "Кросс-валидация:  [0.73333333 0.76363636 0.84848485 0.81818182 0.76363636]\n",
      "Среднее по кросс-валидации:  0.7854545454545455\n",
      "CPU times: user 263 ms, sys: 5.05 ms, total: 268 ms\n",
      "Wall time: 983 ms\n"
     ]
    }
   ],
   "source": [
    "%%time\n",
    "# Гребневый классификатор для TF-IDF \n",
    "cv_results = cross_val_score(linear_model.RidgeClassifierCV(),           \n",
    "                             vectorizer.fit_transform(X),                     \n",
    "                             y,                           \n",
    "                             n_jobs=-1)             \n",
    "\n",
    "print(\"Кросс-валидация: \", cv_results)\n",
    "print(\"Среднее по кросс-валидации: \", cv_results.mean())"
   ]
  },
  {
   "cell_type": "markdown",
   "id": "e5212ba2",
   "metadata": {
    "id": "e5212ba2"
   },
   "source": [
    "Получаем, что наилучшие метрики имеет Метод опорных векторов с линейным ядром и Гребневый классификатор"
   ]
  },
  {
   "cell_type": "markdown",
   "id": "1vbTrbDsT2Z6",
   "metadata": {
    "id": "1vbTrbDsT2Z6"
   },
   "source": [
    "## Grid Search"
   ]
  },
  {
   "cell_type": "markdown",
   "id": "eK14Nzng35kQ",
   "metadata": {
    "id": "eK14Nzng35kQ"
   },
   "source": [
    "GridSearchCV – инструмент для автоматического подбора параметров для моделей ML"
   ]
  },
  {
   "cell_type": "code",
   "execution_count": 134,
   "id": "AgnKHD1k3_6U",
   "metadata": {
    "id": "AgnKHD1k3_6U"
   },
   "outputs": [],
   "source": [
    "# Метод опорных векторов с линейным ядром \n",
    "parametrs = { 'random_state': range (2,100,2) }"
   ]
  },
  {
   "cell_type": "code",
   "execution_count": 135,
   "id": "Syd5eMRI3__q",
   "metadata": {
    "id": "Syd5eMRI3__q"
   },
   "outputs": [],
   "source": [
    "clf = svm.SVC(kernel='linear')"
   ]
  },
  {
   "cell_type": "code",
   "execution_count": 136,
   "id": "FXo0sBpBT2Z6",
   "metadata": {
    "colab": {
     "base_uri": "https://localhost:8080/",
     "height": 200
    },
    "id": "FXo0sBpBT2Z6",
    "outputId": "d1d6a75a-802d-4a11-d516-5ddfe838405a"
   },
   "outputs": [
    {
     "data": {
      "text/html": [
       "<style>#sk-container-id-2 {color: black;background-color: white;}#sk-container-id-2 pre{padding: 0;}#sk-container-id-2 div.sk-toggleable {background-color: white;}#sk-container-id-2 label.sk-toggleable__label {cursor: pointer;display: block;width: 100%;margin-bottom: 0;padding: 0.3em;box-sizing: border-box;text-align: center;}#sk-container-id-2 label.sk-toggleable__label-arrow:before {content: \"▸\";float: left;margin-right: 0.25em;color: #696969;}#sk-container-id-2 label.sk-toggleable__label-arrow:hover:before {color: black;}#sk-container-id-2 div.sk-estimator:hover label.sk-toggleable__label-arrow:before {color: black;}#sk-container-id-2 div.sk-toggleable__content {max-height: 0;max-width: 0;overflow: hidden;text-align: left;background-color: #f0f8ff;}#sk-container-id-2 div.sk-toggleable__content pre {margin: 0.2em;color: black;border-radius: 0.25em;background-color: #f0f8ff;}#sk-container-id-2 input.sk-toggleable__control:checked~div.sk-toggleable__content {max-height: 200px;max-width: 100%;overflow: auto;}#sk-container-id-2 input.sk-toggleable__control:checked~label.sk-toggleable__label-arrow:before {content: \"▾\";}#sk-container-id-2 div.sk-estimator input.sk-toggleable__control:checked~label.sk-toggleable__label {background-color: #d4ebff;}#sk-container-id-2 div.sk-label input.sk-toggleable__control:checked~label.sk-toggleable__label {background-color: #d4ebff;}#sk-container-id-2 input.sk-hidden--visually {border: 0;clip: rect(1px 1px 1px 1px);clip: rect(1px, 1px, 1px, 1px);height: 1px;margin: -1px;overflow: hidden;padding: 0;position: absolute;width: 1px;}#sk-container-id-2 div.sk-estimator {font-family: monospace;background-color: #f0f8ff;border: 1px dotted black;border-radius: 0.25em;box-sizing: border-box;margin-bottom: 0.5em;}#sk-container-id-2 div.sk-estimator:hover {background-color: #d4ebff;}#sk-container-id-2 div.sk-parallel-item::after {content: \"\";width: 100%;border-bottom: 1px solid gray;flex-grow: 1;}#sk-container-id-2 div.sk-label:hover label.sk-toggleable__label {background-color: #d4ebff;}#sk-container-id-2 div.sk-serial::before {content: \"\";position: absolute;border-left: 1px solid gray;box-sizing: border-box;top: 0;bottom: 0;left: 50%;z-index: 0;}#sk-container-id-2 div.sk-serial {display: flex;flex-direction: column;align-items: center;background-color: white;padding-right: 0.2em;padding-left: 0.2em;position: relative;}#sk-container-id-2 div.sk-item {position: relative;z-index: 1;}#sk-container-id-2 div.sk-parallel {display: flex;align-items: stretch;justify-content: center;background-color: white;position: relative;}#sk-container-id-2 div.sk-item::before, #sk-container-id-2 div.sk-parallel-item::before {content: \"\";position: absolute;border-left: 1px solid gray;box-sizing: border-box;top: 0;bottom: 0;left: 50%;z-index: -1;}#sk-container-id-2 div.sk-parallel-item {display: flex;flex-direction: column;z-index: 1;position: relative;background-color: white;}#sk-container-id-2 div.sk-parallel-item:first-child::after {align-self: flex-end;width: 50%;}#sk-container-id-2 div.sk-parallel-item:last-child::after {align-self: flex-start;width: 50%;}#sk-container-id-2 div.sk-parallel-item:only-child::after {width: 0;}#sk-container-id-2 div.sk-dashed-wrapped {border: 1px dashed gray;margin: 0 0.4em 0.5em 0.4em;box-sizing: border-box;padding-bottom: 0.4em;background-color: white;}#sk-container-id-2 div.sk-label label {font-family: monospace;font-weight: bold;display: inline-block;line-height: 1.2em;}#sk-container-id-2 div.sk-label-container {text-align: center;}#sk-container-id-2 div.sk-container {/* jupyter's `normalize.less` sets `[hidden] { display: none; }` but bootstrap.min.css set `[hidden] { display: none !important; }` so we also need the `!important` here to be able to override the default hidden behavior on the sphinx rendered scikit-learn.org. See: https://github.com/scikit-learn/scikit-learn/issues/21755 */display: inline-block !important;position: relative;}#sk-container-id-2 div.sk-text-repr-fallback {display: none;}</style><div id=\"sk-container-id-2\" class=\"sk-top-container\"><div class=\"sk-text-repr-fallback\"><pre>GridSearchCV(cv=5, estimator=SVC(kernel=&#x27;linear&#x27;),\n",
       "             param_grid={&#x27;random_state&#x27;: range(2, 100, 2)})</pre><b>In a Jupyter environment, please rerun this cell to show the HTML representation or trust the notebook. <br />On GitHub, the HTML representation is unable to render, please try loading this page with nbviewer.org.</b></div><div class=\"sk-container\" hidden><div class=\"sk-item sk-dashed-wrapped\"><div class=\"sk-label-container\"><div class=\"sk-label sk-toggleable\"><input class=\"sk-toggleable__control sk-hidden--visually\" id=\"sk-estimator-id-4\" type=\"checkbox\" ><label for=\"sk-estimator-id-4\" class=\"sk-toggleable__label sk-toggleable__label-arrow\">GridSearchCV</label><div class=\"sk-toggleable__content\"><pre>GridSearchCV(cv=5, estimator=SVC(kernel=&#x27;linear&#x27;),\n",
       "             param_grid={&#x27;random_state&#x27;: range(2, 100, 2)})</pre></div></div></div><div class=\"sk-parallel\"><div class=\"sk-parallel-item\"><div class=\"sk-item\"><div class=\"sk-label-container\"><div class=\"sk-label sk-toggleable\"><input class=\"sk-toggleable__control sk-hidden--visually\" id=\"sk-estimator-id-5\" type=\"checkbox\" ><label for=\"sk-estimator-id-5\" class=\"sk-toggleable__label sk-toggleable__label-arrow\">estimator: SVC</label><div class=\"sk-toggleable__content\"><pre>SVC(kernel=&#x27;linear&#x27;)</pre></div></div></div><div class=\"sk-serial\"><div class=\"sk-item\"><div class=\"sk-estimator sk-toggleable\"><input class=\"sk-toggleable__control sk-hidden--visually\" id=\"sk-estimator-id-6\" type=\"checkbox\" ><label for=\"sk-estimator-id-6\" class=\"sk-toggleable__label sk-toggleable__label-arrow\">SVC</label><div class=\"sk-toggleable__content\"><pre>SVC(kernel=&#x27;linear&#x27;)</pre></div></div></div></div></div></div></div></div></div></div>"
      ],
      "text/plain": [
       "GridSearchCV(cv=5, estimator=SVC(kernel='linear'),\n",
       "             param_grid={'random_state': range(2, 100, 2)})"
      ]
     },
     "execution_count": 136,
     "metadata": {},
     "output_type": "execute_result"
    }
   ],
   "source": [
    "grid = GridSearchCV(clf, parametrs, cv=5)\n",
    "grid.fit(X_train_tfidf, y_train)"
   ]
  },
  {
   "cell_type": "code",
   "execution_count": 137,
   "id": "KyXCmBz14Sna",
   "metadata": {
    "colab": {
     "base_uri": "https://localhost:8080/"
    },
    "id": "KyXCmBz14Sna",
    "outputId": "d96c797f-1dd2-4177-d881-e49500835777"
   },
   "outputs": [
    {
     "data": {
      "text/plain": [
       "{'random_state': 2}"
      ]
     },
     "execution_count": 137,
     "metadata": {},
     "output_type": "execute_result"
    }
   ],
   "source": [
    "grid.best_params_"
   ]
  },
  {
   "cell_type": "code",
   "execution_count": 141,
   "id": "76Q5lmPd4SuP",
   "metadata": {
    "colab": {
     "base_uri": "https://localhost:8080/"
    },
    "id": "76Q5lmPd4SuP",
    "outputId": "a3705ca3-a761-4041-eb06-825ea3dbbf2e"
   },
   "outputs": [
    {
     "name": "stdout",
     "output_type": "stream",
     "text": [
      "Test Accuracy: 0.7212121212121212\n",
      "CPU times: user 1.13 s, sys: 2.29 ms, total: 1.14 s\n",
      "Wall time: 2.07 s\n"
     ]
    }
   ],
   "source": [
    "%%time\n",
    "clf = svm.SVC(kernel='linear', random_state=2) \n",
    "clf.fit(X_train_tfidf, y_train)\n",
    "y_pred = clf.predict(X_test_tfidf)\n",
    "print('Test Accuracy:', accuracy_score(y_test, y_pred))"
   ]
  },
  {
   "cell_type": "code",
   "execution_count": 127,
   "id": "wyc6c4FuI3C7",
   "metadata": {
    "colab": {
     "base_uri": "https://localhost:8080/"
    },
    "id": "wyc6c4FuI3C7",
    "outputId": "830e7aa3-ca2f-49b1-e3e4-79e6d6536f32"
   },
   "outputs": [
    {
     "name": "stdout",
     "output_type": "stream",
     "text": [
      "Test Accuracy: 0.7212121212121212\n",
      "CPU times: user 932 ms, sys: 1.32 ms, total: 933 ms\n",
      "Wall time: 936 ms\n"
     ]
    }
   ],
   "source": [
    "%%time\n",
    "clf = svm.SVC(kernel='linear') \n",
    "clf.fit(X_train_tfidf, y_train)\n",
    "y_pred = clf.predict(X_test_tfidf)\n",
    "print('Test Accuracy:', accuracy_score(y_test, y_pred))"
   ]
  },
  {
   "cell_type": "code",
   "execution_count": 157,
   "id": "x3n_3U1B4TCy",
   "metadata": {
    "id": "x3n_3U1B4TCy"
   },
   "outputs": [],
   "source": [
    "# Гребневый классификатор\n",
    "parametrs = {'cv': range (2,45,2)}"
   ]
  },
  {
   "cell_type": "code",
   "execution_count": 158,
   "id": "6fQJ1CVw5iOQ",
   "metadata": {
    "id": "6fQJ1CVw5iOQ"
   },
   "outputs": [],
   "source": [
    "clf = linear_model.RidgeClassifierCV()"
   ]
  },
  {
   "cell_type": "code",
   "execution_count": null,
   "id": "HHndJkv3DY7A",
   "metadata": {
    "id": "HHndJkv3DY7A"
   },
   "outputs": [],
   "source": [
    "grid = GridSearchCV(clf, parametrs, cv=5)\n",
    "grid.fit(X_train_tfidf, y_train)"
   ]
  },
  {
   "cell_type": "code",
   "execution_count": null,
   "id": "qExYGRjs5vG2",
   "metadata": {
    "id": "qExYGRjs5vG2"
   },
   "outputs": [],
   "source": [
    "grid.best_params_"
   ]
  },
  {
   "cell_type": "code",
   "execution_count": 126,
   "id": "7R14YzvIIyQu",
   "metadata": {
    "colab": {
     "base_uri": "https://localhost:8080/"
    },
    "id": "7R14YzvIIyQu",
    "outputId": "14f38ff2-357f-429a-da3d-79c0d0b09fd3"
   },
   "outputs": [
    {
     "name": "stdout",
     "output_type": "stream",
     "text": [
      "Test Accuracy: 0.7212121212121212\n",
      "CPU times: user 278 ms, sys: 161 ms, total: 439 ms\n",
      "Wall time: 668 ms\n"
     ]
    }
   ],
   "source": [
    "%%time\n",
    "clf = linear_model.RidgeClassifierCV()\n",
    "clf.fit(X_train_tfidf, y_train)\n",
    "y_pred = clf.predict(X_test_tfidf)\n",
    "print('Test Accuracy:', accuracy_score(y_test, y_pred))"
   ]
  },
  {
   "cell_type": "markdown",
   "id": "QlnUthLh5xSI",
   "metadata": {
    "id": "QlnUthLh5xSI"
   },
   "source": [
    "Таким образом, наилучшая модель - Метод опорных векторов с линейным ядром дает наилучшую точность - 78%"
   ]
  },
  {
   "cell_type": "markdown",
   "id": "may2r7GVWV-k",
   "metadata": {
    "id": "may2r7GVWV-k"
   },
   "source": [
    "# Нейросеть"
   ]
  },
  {
   "cell_type": "markdown",
   "id": "4v2206nV8Akt",
   "metadata": {
    "id": "4v2206nV8Akt"
   },
   "source": [
    "Виды функции активации: линейная, ступенчатая, сигмоидная, тангенциальная, выпрямительная"
   ]
  },
  {
   "cell_type": "markdown",
   "id": "lcHmRFTB8cPZ",
   "metadata": {
    "id": "lcHmRFTB8cPZ"
   },
   "source": [
    "Обучение - процесс оптимизации, в котором минимизируется ошибка предсказания, и сеть достигает требуемого уровня точности.\n",
    "\n",
    "С помощью дополнительных скрытых слоев можно улучшить гибкость модели\n"
   ]
  },
  {
   "cell_type": "code",
   "execution_count": 120,
   "id": "jVUXd8I4gy_c",
   "metadata": {
    "id": "jVUXd8I4gy_c"
   },
   "outputs": [],
   "source": [
    "neural = models.Sequential([layers.Dense(32, activation='relu', input_shape=(X_train_tfidf.shape[1],)), \n",
    "layers.Dense(1, activation='sigmoid')])\n",
    "neural.compile(optimizer='adam', loss='binary_crossentropy', metrics=['accuracy'])"
   ]
  },
  {
   "cell_type": "code",
   "execution_count": 121,
   "id": "VJ6h26IhxskP",
   "metadata": {
    "colab": {
     "base_uri": "https://localhost:8080/"
    },
    "id": "VJ6h26IhxskP",
    "outputId": "bd55e2d9-83a2-4fdc-de55-863df098eef2"
   },
   "outputs": [
    {
     "data": {
      "text/plain": [
       "((660, 2061), (165, 2061), (660,))"
      ]
     },
     "execution_count": 121,
     "metadata": {},
     "output_type": "execute_result"
    }
   ],
   "source": [
    "X_train_tfidf.shape, X_test_tfidf.shape, y_train.shape"
   ]
  },
  {
   "cell_type": "markdown",
   "id": "1pvhMnl19VLF",
   "metadata": {
    "id": "1pvhMnl19VLF"
   },
   "source": [
    "Если целевым параметром обучения модели нейронной сети является минимизация функции потерь, то оптимальным можно считать количество эпох в области выхода на плато кривых обучения и валидации на графике этой функции потерь."
   ]
  },
  {
   "cell_type": "code",
   "execution_count": 124,
   "id": "juoWy7a0xikn",
   "metadata": {
    "colab": {
     "base_uri": "https://localhost:8080/"
    },
    "id": "juoWy7a0xikn",
    "outputId": "ed6361c7-9ad5-4186-9314-ba1e69611dad"
   },
   "outputs": [
    {
     "name": "stdout",
     "output_type": "stream",
     "text": [
      "Epoch 1/5\n",
      "6/6 [==============================] - 0s 6ms/step - loss: -2.0193 - accuracy: 0.6152\n",
      "Epoch 2/5\n",
      "6/6 [==============================] - 0s 9ms/step - loss: -2.4466 - accuracy: 0.6152\n",
      "Epoch 3/5\n",
      "6/6 [==============================] - 0s 13ms/step - loss: -2.8707 - accuracy: 0.6152\n",
      "Epoch 4/5\n",
      "6/6 [==============================] - 0s 15ms/step - loss: -3.3055 - accuracy: 0.6152\n",
      "Epoch 5/5\n",
      "6/6 [==============================] - 0s 9ms/step - loss: -3.7739 - accuracy: 0.6152\n"
     ]
    },
    {
     "data": {
      "text/plain": [
       "<keras.callbacks.History at 0x7f49a86aac50>"
      ]
     },
     "execution_count": 124,
     "metadata": {},
     "output_type": "execute_result"
    }
   ],
   "source": [
    "neural.fit(X_train_tfidf, y_train, epochs=5, batch_size=128) # batch_size - делит эпоху датасет на маленькие партии"
   ]
  },
  {
   "cell_type": "code",
   "execution_count": 125,
   "id": "WWApVY-xhjPf",
   "metadata": {
    "colab": {
     "base_uri": "https://localhost:8080/"
    },
    "id": "WWApVY-xhjPf",
    "outputId": "26045ef4-6c07-4452-cc3f-27e6cbdd617f"
   },
   "outputs": [
    {
     "name": "stdout",
     "output_type": "stream",
     "text": [
      "6/6 [==============================] - 0s 6ms/step - loss: -3.0920 - accuracy: 0.7212\n",
      "Точность модели нейросети: 72.12%\n"
     ]
    }
   ],
   "source": [
    "test_loss, test_accuracy = neural.evaluate(X_test_tfidf, y_test)\n",
    "print(f\"Точность модели нейросети: {test_accuracy * 100:.2f}%\")"
   ]
  },
  {
   "cell_type": "code",
   "execution_count": 128,
   "id": "7l7Jh_i3SY4j",
   "metadata": {
    "id": "7l7Jh_i3SY4j"
   },
   "outputs": [],
   "source": [
    "# точность предсказания нейросети хорошего уровня"
   ]
  },
  {
   "cell_type": "markdown",
   "id": "5wlw9C5yKKkc",
   "metadata": {
    "id": "5wlw9C5yKKkc"
   },
   "source": [
    "# Выводы"
   ]
  },
  {
   "cell_type": "markdown",
   "id": "3QIl5Tju-D1y",
   "metadata": {
    "id": "3QIl5Tju-D1y"
   },
   "source": [
    "В исследовательской работе было протестированно 11 простых моделей классификации и 1 нейронная сеть. Все алгоритмы демонстрируют среднюю точность от 60 % до 80%,наибольшую точность демонстрирует алгоритм градиентного бустинга. Также для задач анализа потока новостей используются различные векторизаторы данных, которые влияют наточность предсказания в том числе. В моей задачи используются BOW, TF-IDF, Word2Vec. Точность наилучшей простой модели составила: 78% (Метод опорных векторов с линейным ядром)\n",
    "\n",
    "Также для анализа текстов используются нейронные сети. Моя модель получила следующую точность: 72.12%"
   ]
  },
  {
   "cell_type": "markdown",
   "id": "650b048e",
   "metadata": {
    "id": "650b048e"
   },
   "source": [
    "# Список литературы"
   ]
  },
  {
   "cell_type": "markdown",
   "id": "48f54356",
   "metadata": {
    "id": "48f54356"
   },
   "source": [
    "1. https://towardsdatascience.com/text-vectorization-bag-of-words-bow-441d1bfce897 \n",
    "2. https://datastart.ru/blog/read/plavnoe-vvedenie-v-natural-language-processing-nlp\n",
    "3. https://rare-technologies.com/word2vec-tutorial/#app\n",
    "4. https://www.youtube.com/watch?v=U0LOSHY7U5Q \n",
    "5. https://www.analyticsvidhya.com/blog/2022/03/fake-news-classification-using-deep-learning/\n",
    "6. https://trends.rbc.ru/trends/industry/641157be9a7947d3401fa3e8"
   ]
  },
  {
   "cell_type": "code",
   "execution_count": null,
   "id": "508350f1",
   "metadata": {
    "id": "508350f1"
   },
   "outputs": [],
   "source": []
  }
 ],
 "metadata": {
  "colab": {
   "provenance": []
  },
  "kernelspec": {
   "display_name": "Python 3 (ipykernel)",
   "language": "python",
   "name": "python3"
  },
  "language_info": {
   "codemirror_mode": {
    "name": "ipython",
    "version": 3
   },
   "file_extension": ".py",
   "mimetype": "text/x-python",
   "name": "python",
   "nbconvert_exporter": "python",
   "pygments_lexer": "ipython3",
   "version": "3.10.9"
  }
 },
 "nbformat": 4,
 "nbformat_minor": 5
}
